{
 "cells": [
  {
   "cell_type": "markdown",
   "metadata": {},
   "source": [
    "List Jupyter Notebook\n",
    "    - List Creation\n",
    "    - List elements access - Slice and Dice\n",
    "    - List Elements Insert/update and delete\n",
    "    - List Concatenation(+) and Repeat(*)\n",
    "    - Membership operation in List\n",
    "    - Aliasing and Deep Copy\n",
    "    - List Methods\n",
    "    - Functions Min/Max/Sort\n",
    "    - Convert the List to Set to find unique elements between 2 lists\n",
    "    - Nested List\n",
    "    - Accessing 3x3 Matrix(List) elements using For Loop\n",
    "    - List Comprensions\n",
    "Tuples \n",
    "    - Tuple Creation using tuple()\n",
    "    - Tuple Creation using list\n",
    "    - Tuple - Slice and Dice\n",
    "    - Functions - len/concatenation/repeatition/min/max/count/sort/index\n",
    "    - membership in tuple"
   ]
  },
  {
   "cell_type": "markdown",
   "metadata": {},
   "source": [
    "#### List and Tuples\n",
    "\n",
    "Sequence is a datatype that represents a group of elements.Purpose of any group is to store and process a group of elements.\n",
    "In Python, strings,lists,tuples and dictionaries are important sequence datatype\n",
    "All sequence allow common operarations like indexing and slicing.\n",
    "\n",
    "Lists is very similar to array but with one main difference list can store different types of elements.\n",
    "\n",
    "student information contains various datatype information like student name, age ,marks...all information pertaining to a student can be stored in the lists.\n",
    "\n"
   ]
  },
  {
   "cell_type": "code",
   "execution_count": 1,
   "metadata": {},
   "outputs": [
    {
     "name": "stdout",
     "output_type": "stream",
     "text": [
      "<class 'list'>\n",
      "List created using square brackets [10, 20, 10.5, 2.55, 'Ganesh', 'Vishnu']\n",
      "List created using list method [10, 20, 10.5, 2.55, 'Ganesh', 'Vishnu']\n",
      "list created using range function [4, 6, 8]\n"
     ]
    }
   ],
   "source": [
    "#Creating a list\n",
    "# using square brackets\n",
    "y=[]\n",
    "print(type(y))\n",
    "\n",
    "x=[10,20,10.5,2.55,\"Ganesh\",\"Vishnu\"]\n",
    "print(\"List created using square brackets\",x)\n",
    "\n",
    "# list method\n",
    "y=list([10,20,10.5,2.55,\"Ganesh\",\"Vishnu\"])\n",
    "print(\"List created using list method\",y)\n",
    "\n",
    "# range method\n",
    "\n",
    "z=list(range(4,9,2))\n",
    "print(\"list created using range function\",z)"
   ]
  },
  {
   "cell_type": "code",
   "execution_count": 2,
   "metadata": {},
   "outputs": [
    {
     "name": "stdout",
     "output_type": "stream",
     "text": [
      "[10, 20, 10.5, 2.55, 'Ganesh', 'Vishnu']\n",
      "\n",
      "using for loop\n",
      "10\n",
      "20\n",
      "10.5\n",
      "2.55\n",
      "Ganesh\n",
      "Vishnu\n",
      "\n",
      "retrieve the list in reverse order Vishnu\n"
     ]
    }
   ],
   "source": [
    "# Accessing the elements of a list\n",
    "#printing the complete list\n",
    "print(x) \n",
    "\n",
    "#Accessing one by one \n",
    "print(\"\\nusing for loop\")\n",
    "for i in x:\n",
    "    print(i)\n",
    "    \n",
    "#retrieve the elements in the reverse order\n",
    "x.reverse()\n",
    "print(\"\\nretrieve the list in reverse order\", x[0])"
   ]
  },
  {
   "cell_type": "code",
   "execution_count": 1,
   "metadata": {},
   "outputs": [
    {
     "name": "stdout",
     "output_type": "stream",
     "text": [
      "Appended 35 [10, 20, 10.5, 2.55, 'Ganesh', 'Sara', 35]\n",
      "updated the first element  [15, 20, 10.5, 2.55, 'Ganesh', 'Sara', 35]\n",
      "updated the 2nd and 3rd element [15, 25, 35, 2.55, 'Ganesh', 'Sara', 35]\n",
      "deleted 2nd element using del command [15, 35, 2.55, 'Ganesh', 'Sara', 35]\n",
      "deleted element which contains 35 in first occurence [15, 2.55, 'Ganesh', 'Sara', 35]\n"
     ]
    }
   ],
   "source": [
    "# updating the elements of a list\n",
    "\n",
    "# lists are Mutable i.e you can insert, update and delete the elements of a list\n",
    "x=[10,20,10.5,2.55,\"Ganesh\",\"Vishnu\"]\n",
    "\n",
    "x[5]=\"Sara\"\n",
    "\n",
    "x.append(35)\n",
    "print(\"Appended 35\", x)\n",
    "\n",
    "#update 1st element\n",
    "x[0]=15\n",
    "print(\"updated the first element \",x)\n",
    "\n",
    "#update 2nd and 3rd element\n",
    "x[1:3]=25,35\n",
    "print(\"updated the 2nd and 3rd element\",x)\n",
    "\n",
    "#deleting an element using del statement\n",
    "del x[1]\n",
    "print(\"deleted 2nd element using del command\",x)\n",
    "\n",
    "#deleting elements using remove method. for remove method you have to pass value and for pop method you pass index.\n",
    "# if there is duplicate values in the list then it removes only  the first occurence\n",
    "\n",
    "x.remove(35)\n",
    "print(\"deleted element which contains 35 in first occurence\",x)\n"
   ]
  },
  {
   "cell_type": "code",
   "execution_count": 15,
   "metadata": {},
   "outputs": [
    {
     "name": "stdout",
     "output_type": "stream",
     "text": [
      "[15, 25, 2.55, 'Ganesh', 'Vishnu', 35]\n"
     ]
    }
   ],
   "source": [
    "x.insert(1,25)\n",
    "print(x)\n",
    "x.insert()\n"
   ]
  },
  {
   "cell_type": "code",
   "execution_count": 16,
   "metadata": {},
   "outputs": [
    {
     "name": "stdout",
     "output_type": "stream",
     "text": [
      "concatenated two list x + y [10, 20, 30, 40, 50, 110, 120, 130]\n"
     ]
    }
   ],
   "source": [
    "# Concatenation of two list\n",
    "x=[10,20,30,40,50]\n",
    "y=[110,120,130]\n",
    "print(\"concatenated two list x + y\" , x+y)"
   ]
  },
  {
   "cell_type": "code",
   "execution_count": 38,
   "metadata": {},
   "outputs": [
    {
     "name": "stdout",
     "output_type": "stream",
     "text": [
      "repetition of list x*2 =  [10, 20, 30, 40, 50, 10, 20, 30, 40, 50]\n"
     ]
    }
   ],
   "source": [
    "# Repetition of list using *\n",
    "print(\"repetition of list x*2 = \", x*2)\n"
   ]
  },
  {
   "cell_type": "code",
   "execution_count": 18,
   "metadata": {},
   "outputs": [
    {
     "name": "stdout",
     "output_type": "stream",
     "text": [
      " Num found in the list\n"
     ]
    }
   ],
   "source": [
    "# membership in list\n",
    "x=[10,20,30,40,50]\n",
    "\n",
    "num=20\n",
    "\n",
    "if num in x:\n",
    "    print(\" Num found in the list\")\n",
    "else:\n",
    "    print(\" Num not found in the list\")\n",
    "    \n"
   ]
  },
  {
   "cell_type": "code",
   "execution_count": 21,
   "metadata": {},
   "outputs": [
    {
     "name": "stdout",
     "output_type": "stream",
     "text": [
      "both x and y are same\n",
      "[10, 22, 30, 40, 50]\n",
      "[10, 22, 30, 40, 50]\n"
     ]
    }
   ],
   "source": [
    "#ALiasing and cloning list\n",
    "\n",
    "\n",
    "y=x\n",
    "\n",
    "if x is y:\n",
    "    print(\"both x and y are same\")\n",
    "else:\n",
    "    print(\"both are not same\")\n",
    "\n",
    "y[1]=22\n",
    "    \n",
    "print(x)\n",
    "print(y)\n",
    "\n"
   ]
  },
  {
   "cell_type": "code",
   "execution_count": 22,
   "metadata": {},
   "outputs": [
    {
     "name": "stdout",
     "output_type": "stream",
     "text": [
      "2984870808264 2984870808072\n",
      "both x and y are NOT same\n"
     ]
    }
   ],
   "source": [
    "# cloning (deep copy)\n",
    "\n",
    "   \n",
    "# using copy method\n",
    "\n",
    "x=[10,20,30,40,50]\n",
    "\n",
    "y=x.copy() # syntax for deep copy\n",
    "\n",
    "print(id(x),id(y))\n",
    "\n",
    "if x is y:\n",
    "    print(\"both x and y are same\")\n",
    "else:\n",
    "    print(\"both x and y are NOT same\")"
   ]
  },
  {
   "cell_type": "code",
   "execution_count": 25,
   "metadata": {},
   "outputs": [
    {
     "name": "stdout",
     "output_type": "stream",
     "text": [
      "using command len(x) is  5\n",
      "using sum() is  150\n",
      "using x.index(30) is  2\n",
      "using x.append(60) is  [10, 20, 30, 40, 50, 60]\n",
      "using x.insert(3,35) is  [10, 20, 30, 35, 40, 50, 60]\n",
      "using x.copy() is  [10, 20, 30, 35, 40, 50, 60]\n",
      "using x.extend(y) is  [10, 20, 30, 35, 40, 50, 60, 70, 80, 85]\n",
      "using x.count(30) is  1\n",
      "using x.remove(30) is  [10, 20, 35, 40, 50, 60, 70, 80, 85]\n",
      "using x.pop() is  [10, 20, 35, 40, 50, 60, 70, 80]\n",
      "after x.reverse() is  [80, 70, 60, 50, 40, 35, 20, 10]\n",
      "after x.sort() is  [10, 20, 35, 40, 50, 60, 70, 80]\n",
      "after x.sort(reverse=True) is  [80, 70, 60, 50, 40, 35, 20, 10]\n",
      "after x.clear() is  []\n"
     ]
    }
   ],
   "source": [
    "### List Methods with examples\n",
    "\n",
    "x=[10,20,30,40,50]\n",
    "\n",
    "n = len(x)\n",
    "print(\"using command len(x) is \",n)\n",
    "\n",
    "### Methods\n",
    "#### sum() - return the sum of all elements in the list\n",
    "print(\"using sum() is \", sum(x))\n",
    "\n",
    "#### index()- returns the index of the element which has given value x\n",
    "print(\"using x.index(30) is \", x.index(30))\n",
    "\n",
    "#### append(x)- add one element in the last with value x\n",
    "x.append(60)\n",
    "print(\"using x.append(60) is \",x )\n",
    "\n",
    "#### insert(i,x)- add one element with value x in the given index(i)\n",
    "x.insert(3,35)\n",
    "print(\"using x.insert(3,35) is \",x )\n",
    "\n",
    "\n",
    "#### copy()- deep copy the list and assign to another list\n",
    "y=x.copy()\n",
    "print(\"using x.copy() is \",y )\n",
    "\n",
    "#### extend(list1)- append the list1 to the list\n",
    "y=[70,80,85]\n",
    "x.extend(y)\n",
    "print(\"using x.extend(y) is \",x )\n",
    "\n",
    "#### count() - number of  times the given value in the list\n",
    "print(\"using x.count(30) is \",x.count(30) )\n",
    "\n",
    "#### remove(x)- remove the first element which has x value\n",
    "x.remove(30)\n",
    "print(\"using x.remove(30) is \",x )\n",
    "\n",
    "#### pop()- remove the last element\n",
    "x.pop()\n",
    "print(\"using x.pop() is \",x )\n",
    "\n",
    "#### reverse() - reverse the sequences of the elements\n",
    "x.reverse()\n",
    "print(\"after x.reverse() is \",x )\n",
    "\n",
    "#### sort()- sort the elements of list in ascending order\n",
    "x.sort()\n",
    "print(\"after x.sort() is \",x )\n",
    "\n",
    "x.sort(reverse=True)\n",
    "print(\"after x.sort(reverse=True) is \",x )\n",
    "\n",
    "\n",
    "#### clear()- delete all the elements from the list\n",
    "x.clear()\n",
    "print(\"after x.clear() is \",x )"
   ]
  },
  {
   "cell_type": "code",
   "execution_count": 76,
   "metadata": {},
   "outputs": [
    {
     "name": "stdout",
     "output_type": "stream",
     "text": [
      "min(x) is  10\n",
      "max(x) is  50\n"
     ]
    }
   ],
   "source": [
    "# Finding biggest and smallest element in the list\n",
    "\n",
    "x=[10,20,30,40,50]\n",
    "print(\"min(x) is \", min(x))\n",
    "print(\"max(x) is \", max(x))"
   ]
  },
  {
   "cell_type": "code",
   "execution_count": 26,
   "metadata": {},
   "outputs": [
    {
     "name": "stdout",
     "output_type": "stream",
     "text": [
      "before using sort method  [10, 20, 60, 70, 30, 40, 50]\n",
      "after using sort method  [10, 20, 30, 40, 50, 60, 70]\n",
      "after using sort(reverse=True) method  [70, 60, 50, 40, 30, 20, 10]\n"
     ]
    }
   ],
   "source": [
    "# sorting the list in the reverse order\n",
    "x=[10,20,60,70,30,40,50]\n",
    "print(\"before using sort method \", x)\n",
    "x.sort()\n",
    "print(\"after using sort method \", x)\n",
    "x.sort(reverse=True)\n",
    "print(\"after using sort(reverse=True) method \", x)"
   ]
  },
  {
   "cell_type": "code",
   "execution_count": 28,
   "metadata": {},
   "outputs": [
    {
     "name": "stdout",
     "output_type": "stream",
     "text": [
      "<class 'set'>\n",
      "after using intersection method  {60, 30}\n"
     ]
    }
   ],
   "source": [
    "# finding common elements in the two list\n",
    "\n",
    "x= [10,20,30,40,50,60]\n",
    "\n",
    "y= [5,15,30,45,60]\n",
    "\n",
    "# first convert the list in to set using set() then use the intersection method \n",
    "\n",
    "x1=set(x)\n",
    "print(type(x1))\n",
    "y1=set(y)\n",
    "\n",
    "print(\"after using intersection method \", x1.intersection(y1))"
   ]
  },
  {
   "cell_type": "code",
   "execution_count": 6,
   "metadata": {},
   "outputs": [
    {
     "name": "stdout",
     "output_type": "stream",
     "text": [
      "4\n",
      "After inserting list(x) in the list(y) [10, 20, 30, [1, 2, 3]]\n",
      "10\n",
      "20\n",
      "30\n",
      "[1, 2, 3]\n"
     ]
    },
    {
     "ename": "TypeError",
     "evalue": "'int' object is not subscriptable",
     "output_type": "error",
     "traceback": [
      "\u001b[1;31m---------------------------------------------------------------------------\u001b[0m",
      "\u001b[1;31mTypeError\u001b[0m                                 Traceback (most recent call last)",
      "\u001b[1;32m<ipython-input-6-75d72331cabe>\u001b[0m in \u001b[0;36m<module>\u001b[1;34m\u001b[0m\n\u001b[0;32m     12\u001b[0m     \u001b[0mprint\u001b[0m\u001b[1;33m(\u001b[0m\u001b[0mi\u001b[0m\u001b[1;33m)\u001b[0m\u001b[1;33m\u001b[0m\u001b[1;33m\u001b[0m\u001b[0m\n\u001b[0;32m     13\u001b[0m \u001b[1;33m\u001b[0m\u001b[0m\n\u001b[1;32m---> 14\u001b[1;33m \u001b[0mprint\u001b[0m\u001b[1;33m(\u001b[0m\u001b[1;34m\"to print the first element in nested element y[3][0] is \"\u001b[0m\u001b[1;33m,\u001b[0m \u001b[0my\u001b[0m\u001b[1;33m[\u001b[0m\u001b[1;36m0\u001b[0m\u001b[1;33m]\u001b[0m\u001b[1;33m[\u001b[0m\u001b[1;36m0\u001b[0m\u001b[1;33m]\u001b[0m\u001b[1;33m)\u001b[0m\u001b[1;33m\u001b[0m\u001b[1;33m\u001b[0m\u001b[0m\n\u001b[0m\u001b[0;32m     15\u001b[0m \u001b[1;33m\u001b[0m\u001b[0m\n\u001b[0;32m     16\u001b[0m \u001b[0mprint\u001b[0m\u001b[1;33m(\u001b[0m\u001b[1;34m\"to print the first element in nested element y[3][1] is \"\u001b[0m\u001b[1;33m,\u001b[0m \u001b[0my\u001b[0m\u001b[1;33m[\u001b[0m\u001b[1;36m1\u001b[0m\u001b[1;33m]\u001b[0m\u001b[1;33m[\u001b[0m\u001b[1;36m1\u001b[0m\u001b[1;33m]\u001b[0m\u001b[1;33m)\u001b[0m\u001b[1;33m\u001b[0m\u001b[1;33m\u001b[0m\u001b[0m\n",
      "\u001b[1;31mTypeError\u001b[0m: 'int' object is not subscriptable"
     ]
    }
   ],
   "source": [
    "# Nested list - List within list\n",
    "\n",
    "x=[1,2,3]\n",
    "\n",
    "y=[10,20,30,x]\n",
    "\n",
    "\n",
    "\n",
    "print(len(y))\n",
    "\n",
    "print(\"After inserting list(x) in the list(y)\", y)\n",
    "\n",
    "for i in y:\n",
    "    print(i)\n",
    "\n",
    "print(\"to print the first element in nested element y[3][0] is \", y[0][0])\n",
    "\n",
    "print(\"to print the first element in nested element y[3][1] is \", y[1][1])\n",
    "\n"
   ]
  },
  {
   "cell_type": "code",
   "execution_count": 93,
   "metadata": {},
   "outputs": [
    {
     "name": "stdout",
     "output_type": "stream",
     "text": [
      "for printing the complete list [[1, 2, 3], [4, 5, 6], [7, 8, 9]]\n",
      "printing all elements using for loop\n",
      "1\n",
      "2\n",
      "3\n",
      "4\n",
      "5\n",
      "6\n",
      "7\n",
      "8\n",
      "9\n"
     ]
    }
   ],
   "source": [
    "# create 3x3 matrix\n",
    "\n",
    "123\n",
    "456\n",
    "789\n",
    "\n",
    "mat=[[1,2,3],[4,5,6],[7,8,9]]\n",
    "print(\"for printing the complete list\", mat)\n",
    "\n",
    "# for accessing all elements of the nested matrix\n",
    "print(\"printing all elements using for loop\")\n",
    "for i in range(len(mat)):\n",
    "    for j in range(len(mat[i])):\n",
    "        print(mat[i][j])\n"
   ]
  },
  {
   "cell_type": "code",
   "execution_count": 30,
   "metadata": {},
   "outputs": [
    {
     "name": "stdout",
     "output_type": "stream",
     "text": [
      "after using list comprehension method [1, 4, 9, 16, 25, 36, 49, 64, 81, 100]\n"
     ]
    }
   ],
   "source": [
    "# using list comprehensions\n",
    "\n",
    "# list comprehensions represent creation of new list using iterable object like list,tuple...that satisy the given condition\n",
    "\n",
    "#squares=[]\n",
    "# for x in range(1,11):\n",
    "#    squares.append(x**2)\n",
    "# print(squares)\n",
    "\n",
    "# code rewritten in compact way\n",
    "\n",
    "squares=[x**2 for x in range(1,11)]\n",
    "\n",
    "print(\"after using list comprehension method\", squares)"
   ]
  },
  {
   "cell_type": "code",
   "execution_count": 103,
   "metadata": {},
   "outputs": [
    {
     "name": "stdout",
     "output_type": "stream",
     "text": [
      "after using list comprehension method [4, 16, 36, 64, 100]\n"
     ]
    }
   ],
   "source": [
    "# suppose if want squares of integers and take only the even numbers\n",
    "\n",
    "squares=[x**2 for x in range(1,11) if x%2==0 ]\n",
    "print(\"after using list comprehension method\", squares)"
   ]
  },
  {
   "cell_type": "code",
   "execution_count": 108,
   "metadata": {},
   "outputs": [
    {
     "name": "stdout",
     "output_type": "stream",
     "text": [
      "[11, 12, 13, 14, 21, 22, 23, 24, 31, 32, 33, 34]\n",
      " After using List comprehension is  [11, 12, 13, 14, 21, 22, 23, 24, 31, 32, 33, 34]\n"
     ]
    }
   ],
   "source": [
    "# suppose if want to add two list i.e each element of list1 to each element of list2. this can be achieved using for loop\n",
    "\n",
    "x=[10,20,30]\n",
    "y=[1,2,3,4]\n",
    "z=[]\n",
    "for i in x:\n",
    "    for j in y:\n",
    "        z.append(i+j)\n",
    "print(z)\n",
    "\n",
    "# we can achieve the same result using list comprehension method\n",
    "\n",
    "z= [i+j for i in [10,20,30] for j in [1,2,3,4]]\n",
    "print(\" After using List comprehension is \", z)\n"
   ]
  },
  {
   "cell_type": "code",
   "execution_count": 116,
   "metadata": {},
   "outputs": [
    {
     "name": "stdout",
     "output_type": "stream",
     "text": [
      " using for loop--> [3, 4, 5]\n",
      " using for list comprehension--> [3, 4, 5]\n"
     ]
    }
   ],
   "source": [
    "# suppose if we want create new list with numbers which present in list1 but not in list2\n",
    "\n",
    "list1=[1,2,3,4,5]\n",
    "list2=[10,11,1,2]\n",
    "list3=[]\n",
    "\n",
    "for i in list1:\n",
    "    if i not in list2:\n",
    "        list3.append(i)\n",
    "print(\" using for loop-->\", list3)\n",
    "\n",
    "# same can be achieved using list comprehension\n",
    "\n",
    "z=[i for i in list1 if i not in list2]\n",
    "print(\" using  list comprehension-->\",z)\n",
    "        \n",
    "        \n"
   ]
  },
  {
   "cell_type": "markdown",
   "metadata": {},
   "source": [
    "### TUPLES\n",
    "\n",
    "tuples is similar to lists but they are immutable. after its creation we cannot modify its elements. so  we cannot perform the insert, append, delete, remove, pop, clear on the tuples."
   ]
  },
  {
   "cell_type": "code",
   "execution_count": 7,
   "metadata": {},
   "outputs": [
    {
     "name": "stdout",
     "output_type": "stream",
     "text": [
      "<class 'tuple'>\n",
      "(10, -10.2, 40.5, 'chennai', 'mumbai')\n",
      "(10, 20, 30, 40)\n",
      "(10, 20, 30, 'Sara')\n",
      "(10, 20, 30, 'tup6')\n",
      "((10, 20, 30, 'tup6'), 11)\n",
      "30\n"
     ]
    }
   ],
   "source": [
    "# Tuples Creation\n",
    "\n",
    "tup1=()\n",
    "print(type(tup1))\n",
    "\n",
    "tup2 = (10,) # tuple with one element, we need comma after the first element\n",
    "\n",
    "tup3=(10,20.-30.2,40.5,\"chennai\",\"mumbai\")\n",
    "\n",
    "print(tup3)\n",
    "\n",
    "tup4=(10,20,30,40)\n",
    "print(tup4)\n",
    "\n",
    "#if we dont mention any brackets, by default it will take it as tuple\n",
    "tup5=10,20,30,\"Sara\"\n",
    "print(tup5)\n",
    "\n",
    "# it is also possible to create tuple from the list\n",
    "list1=[10,20,30,\"tup6\"]\n",
    "tup6 = tuple(list1)\n",
    "print(tup6)\n",
    "\n",
    "tup7=(tup6,11)\n",
    "print(tup7)\n",
    "print(tup7[0][2])"
   ]
  },
  {
   "cell_type": "code",
   "execution_count": null,
   "metadata": {},
   "outputs": [],
   "source": [
    "##### Accessing Tuple elements- very similar to string, array and list slicing.\n",
    "\n",
    "tup=(50,60,70,80,90,100)\n",
    "\n",
    "print(tup[0:2:1])"
   ]
  },
  {
   "cell_type": "code",
   "execution_count": 137,
   "metadata": {},
   "outputs": [
    {
     "name": "stdout",
     "output_type": "stream",
     "text": [
      "finding length is  6\n",
      "After Concatenation (50, 60, 70, 80, 90, 100, 25000.0, 25000.0, 25000.0, 25000.0)\n",
      "(25000.0, 25000.0, 25000.0, 25000.0, 25000.0, 25000.0, 25000.0, 25000.0)\n",
      "num1 is there in tup2\n",
      "50\n",
      "60\n",
      "70\n",
      "80\n",
      "90\n",
      "100\n",
      "25000.0\n",
      "25000.0\n",
      "25000.0\n",
      "25000.0\n"
     ]
    }
   ],
   "source": [
    "# Basic operation on Tuples\n",
    "\n",
    "tup=(50,60,70,80,90,100)\n",
    "\n",
    "# finding length\n",
    "\n",
    "print(\"finding length is \", len(tup))\n",
    "\n",
    "# concatenation\n",
    "\n",
    "fees= (25000.00,)*4\n",
    "tup2 = tup+fees\n",
    "print(\"After Concatenation\",tup2)\n",
    "\n",
    "# repetition\n",
    "fees=fees*2\n",
    "print(fees)\n",
    "\n",
    "# membership\n",
    "num1=100\n",
    "if num1 in tup2:\n",
    "    print(\"num1 is there in tup2\")\n",
    "\n",
    "# iteration operation\n",
    "\n",
    "for i in tup2:\n",
    "    print(i)\n"
   ]
  },
  {
   "cell_type": "code",
   "execution_count": null,
   "metadata": {},
   "outputs": [],
   "source": [
    "# functions to process tuples\n",
    "\n",
    "# len(tup)\n",
    "# min(tup)\n",
    "# max(tup)\n",
    "# tup.count(x)\n",
    "# tup.index(x)\n",
    "# sorted(tpl)"
   ]
  },
  {
   "cell_type": "code",
   "execution_count": 145,
   "metadata": {},
   "outputs": [
    {
     "name": "stdout",
     "output_type": "stream",
     "text": [
      "(50, 60, 70, (80, 90))\n",
      "[50, 60, 70, 80, 90]\n"
     ]
    }
   ],
   "source": [
    "# Nested Tuples\n",
    "\n",
    "tup1=(50,60,70,(80,90))\n",
    "print(tup1)\n",
    "tup2=(50,60,70,80,90)\n",
    "x=sorted(tup2)\n",
    "print(x)"
   ]
  },
  {
   "cell_type": "code",
   "execution_count": null,
   "metadata": {},
   "outputs": [],
   "source": [
    "# for Inserting/modifying/deleting element we have find alternate logic by copying required elements in to another tuple."
   ]
  }
 ],
 "metadata": {
  "kernelspec": {
   "display_name": "Python 3",
   "language": "python",
   "name": "python3"
  },
  "language_info": {
   "codemirror_mode": {
    "name": "ipython",
    "version": 3
   },
   "file_extension": ".py",
   "mimetype": "text/x-python",
   "name": "python",
   "nbconvert_exporter": "python",
   "pygments_lexer": "ipython3",
   "version": "3.7.3"
  }
 },
 "nbformat": 4,
 "nbformat_minor": 2
}

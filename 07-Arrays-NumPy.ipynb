{
 "cells": [
  {
   "cell_type": "markdown",
   "metadata": {},
   "source": [
    "# NUMPY Basics "
   ]
  },
  {
   "cell_type": "markdown",
   "metadata": {},
   "source": [
    "- NumPy’s main object is the homogeneous multidimensional array.\n",
    "- NumPy.array is not the same as the Standard Python Library class array.array, which only handles one-dimensional arrays and offers less functionality."
   ]
  },
  {
   "cell_type": "markdown",
   "metadata": {},
   "source": [
    "## Array Attributes"
   ]
  },
  {
   "cell_type": "code",
   "execution_count": 12,
   "metadata": {},
   "outputs": [
    {
     "name": "stdout",
     "output_type": "stream",
     "text": [
      "[[ 0  1  2  3  4]\n",
      " [ 5  6  7  8  9]\n",
      " [10 11 12 13 14]]\n",
      "\n",
      "\n",
      "Shape =  (3, 5)\n",
      "dimensions=  2\n",
      "datatype =  int32\n",
      "size =  15\n",
      "class type =  <class 'numpy.ndarray'>\n"
     ]
    }
   ],
   "source": [
    "\n",
    "import numpy as np\n",
    "arr1 = np.arange(15).reshape(3, 5)\n",
    "print(arr1)\n",
    "print(\"\\n\")\n",
    "print(\"Shape = \",arr1.shape)\n",
    "print(\"dimensions= \",arr1.ndim)\n",
    "print(\"datatype = \",arr1.dtype.name)\n",
    "print(\"size = \",arr1.size)\n",
    "print(\"class type = \",type(arr1))\n"
   ]
  },
  {
   "cell_type": "code",
   "execution_count": 25,
   "metadata": {},
   "outputs": [],
   "source": [
    "def print_arr_attr(arr1):\n",
    "    print(arr1)\n",
    "    print(\"\\n\\nShape = \",arr1.shape)\n",
    "    print(\"dimensions= \",arr1.ndim)\n",
    "    print(\"datatype = \",arr1.dtype.name)\n",
    "    print(\"size = \",arr1.size)\n"
   ]
  },
  {
   "cell_type": "markdown",
   "metadata": {},
   "source": [
    "## Array Creation"
   ]
  },
  {
   "cell_type": "code",
   "execution_count": 26,
   "metadata": {},
   "outputs": [
    {
     "name": "stdout",
     "output_type": "stream",
     "text": [
      "[2 3 4]\n",
      "\n",
      "\n",
      "Shape =  (3,)\n",
      "dimensions=  1\n",
      "datatype =  int32\n",
      "size =  3\n"
     ]
    }
   ],
   "source": [
    "# there are several ways you can create arrays\n",
    "#you can create an array from a regular Python list or tuple using the array function\n",
    "arr1=np.array([2,3,4]) # provide elements in a single list otherwise it would considered as args for array functions\n",
    "print_arr_attr(arr1)\n"
   ]
  },
  {
   "cell_type": "code",
   "execution_count": 27,
   "metadata": {},
   "outputs": [
    {
     "name": "stdout",
     "output_type": "stream",
     "text": [
      "[[1 2 3]\n",
      " [4 5 6]]\n",
      "\n",
      "\n",
      "Shape =  (2, 3)\n",
      "dimensions=  2\n",
      "datatype =  int32\n",
      "size =  6\n"
     ]
    }
   ],
   "source": [
    "# Two Dimensional array - we can call it as sequences of sequences\n",
    "\n",
    "arr2= np.array([(1,2,3), (4,5,6)])\n",
    "print_arr_attr(arr2)\n"
   ]
  },
  {
   "cell_type": "code",
   "execution_count": 28,
   "metadata": {},
   "outputs": [
    {
     "name": "stdout",
     "output_type": "stream",
     "text": [
      "[[1.+0.j 2.+0.j]\n",
      " [3.+0.j 4.+0.j]]\n",
      "\n",
      "\n",
      "Shape =  (2, 2)\n",
      "dimensions=  2\n",
      "datatype =  complex128\n",
      "size =  4\n"
     ]
    }
   ],
   "source": [
    "#The type of the array can also be explicitly specified at creation time:\n",
    "\n",
    "arr3 = np.array( [ [1,2], [3,4] ], dtype=complex )\n",
    "print_arr_attr(arr3)"
   ]
  },
  {
   "cell_type": "code",
   "execution_count": 37,
   "metadata": {},
   "outputs": [
    {
     "name": "stdout",
     "output_type": "stream",
     "text": [
      "ZEROS\n",
      "[[0. 0. 0. 0.]\n",
      " [0. 0. 0. 0.]\n",
      " [0. 0. 0. 0.]]\n",
      "ONES\n",
      "[[1. 1. 1. 1.]\n",
      " [1. 1. 1. 1.]\n",
      " [1. 1. 1. 1.]]\n",
      "EMPTY\n",
      "[[7.54904909e-312 7.54904908e-312]\n",
      " [4.86160596e-321             nan]\n",
      " [0.00000000e+000 0.00000000e+000]\n",
      " [0.00000000e+000 0.00000000e+000]\n",
      " [0.00000000e+000 0.00000000e+000]]\n",
      "Arange - one dimension\n",
      "[0 1 2 3 4 5 6 7 8 9]\n",
      "Arange - Two dimension\n",
      "[[0 1 2 3 4]\n",
      " [5 6 7 8 9]]\n"
     ]
    }
   ],
   "source": [
    "#Often, the elements of an array are originally unknown, but its size is known. \n",
    "#Hence, NumPy offers several functions to create arrays with initial placeholder content. \n",
    "#These minimize the necessity of growing arrays, an expensive operation\n",
    "print(\"ZEROS\")\n",
    "print(np.zeros( (3,4) ))\n",
    "print(\"ONES\")\n",
    "print(np.ones( (3,4) ))\n",
    "print(\"EMPTY\")\n",
    "print(np.empty( (5,2) ))\n",
    "print(\"Arange - one dimension\")\n",
    "print(np.arange(0,10))\n",
    "print(\"Arange - Two dimension\")\n",
    "print(np.arange(0,10).reshape(2,5))"
   ]
  },
  {
   "cell_type": "code",
   "execution_count": 38,
   "metadata": {
    "colab": {
     "base_uri": "https://localhost:8080/",
     "height": 69
    },
    "colab_type": "code",
    "executionInfo": {
     "elapsed": 1010,
     "status": "ok",
     "timestamp": 1576318558564,
     "user": {
      "displayName": "Saravanan Shanmugam",
      "photoUrl": "https://lh3.googleusercontent.com/a-/AAuE7mCt8MNo_DUF2SFnS4mm2a5-_JVEwU3AfMmp_xr5cg=s64",
      "userId": "15974090290983113505"
     },
     "user_tz": -330
    },
    "id": "abw-6dsaw8AI",
    "outputId": "c810ef98-3897-461e-e6e7-d0cc78ff748e"
   },
   "outputs": [
    {
     "name": "stdout",
     "output_type": "stream",
     "text": [
      "Array 3 using Random Values = \n",
      " [[0.387492   0.59459825]\n",
      " [0.61462435 0.60500785]]\n"
     ]
    }
   ],
   "source": [
    "# Create an array with random values\n",
    "arr = np.random.random((2,2))\n",
    "print(\"Array 3 using Random Values = \\n\", arr)"
   ]
  },
  {
   "cell_type": "code",
   "execution_count": 151,
   "metadata": {
    "colab": {
     "base_uri": "https://localhost:8080/",
     "height": 52
    },
    "colab_type": "code",
    "executionInfo": {
     "elapsed": 1028,
     "status": "ok",
     "timestamp": 1576318745950,
     "user": {
      "displayName": "Saravanan Shanmugam",
      "photoUrl": "https://lh3.googleusercontent.com/a-/AAuE7mCt8MNo_DUF2SFnS4mm2a5-_JVEwU3AfMmp_xr5cg=s64",
      "userId": "15974090290983113505"
     },
     "user_tz": -330
    },
    "id": "IJqBCd_Lw8AM",
    "outputId": "e2ac16b0-9a54-4546-c0e0-ab0b257ba9f8"
   },
   "outputs": [
    {
     "name": "stdout",
     "output_type": "stream",
     "text": [
      "Array 6 using LinSPace = \n",
      " [0.  0.5 1.  1.5 2. ]\n"
     ]
    }
   ],
   "source": [
    "# Create an array of evenly-spaced values\n",
    "arr = np.linspace(0,2,5)\n",
    "print(\"Array 6 using LinSPace = \\n\", arr)"
   ]
  },
  {
   "cell_type": "code",
   "execution_count": 152,
   "metadata": {
    "colab": {
     "base_uri": "https://localhost:8080/",
     "height": 52
    },
    "colab_type": "code",
    "executionInfo": {
     "elapsed": 1068,
     "status": "ok",
     "timestamp": 1576318785174,
     "user": {
      "displayName": "Saravanan Shanmugam",
      "photoUrl": "https://lh3.googleusercontent.com/a-/AAuE7mCt8MNo_DUF2SFnS4mm2a5-_JVEwU3AfMmp_xr5cg=s64",
      "userId": "15974090290983113505"
     },
     "user_tz": -330
    },
    "id": "AwQJUbFSw8AQ",
    "outputId": "66581324-4fe1-4d95-ecac-1aa206155cf7"
   },
   "outputs": [
    {
     "name": "stdout",
     "output_type": "stream",
     "text": [
      "Array 6 using arange() = \n",
      " [10 12 14 16 18 20 22 24]\n"
     ]
    }
   ],
   "source": [
    "# Create an array using arange function\n",
    "arr=np.arange(10,25,2)\n",
    "print(\"Array 6 using arange() = \\n\", arr)\n"
   ]
  },
  {
   "cell_type": "code",
   "execution_count": 153,
   "metadata": {
    "colab": {
     "base_uri": "https://localhost:8080/",
     "height": 69
    },
    "colab_type": "code",
    "executionInfo": {
     "elapsed": 958,
     "status": "ok",
     "timestamp": 1576318801969,
     "user": {
      "displayName": "Saravanan Shanmugam",
      "photoUrl": "https://lh3.googleusercontent.com/a-/AAuE7mCt8MNo_DUF2SFnS4mm2a5-_JVEwU3AfMmp_xr5cg=s64",
      "userId": "15974090290983113505"
     },
     "user_tz": -330
    },
    "id": "bsEO_3usw8AT",
    "outputId": "36b95c6c-7a5e-4283-ce0e-3e0cf5ed9d66"
   },
   "outputs": [
    {
     "name": "stdout",
     "output_type": "stream",
     "text": [
      "Array 7 using LOGSPace = \n",
      " [  1.           1.77827941   3.16227766   5.62341325  10.\n",
      "  17.7827941   31.6227766   56.23413252 100.        ]\n"
     ]
    }
   ],
   "source": [
    "# Create an array of log-spaced values\n",
    "arr = np.logspace(0,2,9)\n",
    "print(\"Array 7 using LOGSPace = \\n\", arr)"
   ]
  },
  {
   "cell_type": "code",
   "execution_count": 154,
   "metadata": {
    "colab": {
     "base_uri": "https://localhost:8080/",
     "height": 69
    },
    "colab_type": "code",
    "executionInfo": {
     "elapsed": 917,
     "status": "ok",
     "timestamp": 1576318829197,
     "user": {
      "displayName": "Saravanan Shanmugam",
      "photoUrl": "https://lh3.googleusercontent.com/a-/AAuE7mCt8MNo_DUF2SFnS4mm2a5-_JVEwU3AfMmp_xr5cg=s64",
      "userId": "15974090290983113505"
     },
     "user_tz": -330
    },
    "id": "tG2dTZQSw8AX",
    "outputId": "f52c08f4-bdec-4c98-bf72-ba987c412b38"
   },
   "outputs": [
    {
     "name": "stdout",
     "output_type": "stream",
     "text": [
      "create array using another array = \n",
      " [  1.           1.77827941   3.16227766   5.62341325  10.\n",
      "  17.7827941   31.6227766   56.23413252 100.        ]\n"
     ]
    }
   ],
   "source": [
    "# Create an array from another array\n",
    "arr2=np.array(arr)\n",
    "print(\"create array using another array = \\n\", arr2)"
   ]
  },
  {
   "cell_type": "markdown",
   "metadata": {},
   "source": [
    "## Basic Operations\n",
    "- Arithmetic operators on arrays apply elementwise. A new array is created and filled with the result."
   ]
  },
  {
   "cell_type": "code",
   "execution_count": 47,
   "metadata": {},
   "outputs": [
    {
     "name": "stdout",
     "output_type": "stream",
     "text": [
      "a= [20 30 40 50] b= [0 1 2 3]\n",
      "a-b\n",
      "[20 29 38 47]\n"
     ]
    }
   ],
   "source": [
    "a= np.array([20,30,40,50])\n",
    "b= np.arange(4)\n",
    "print(\"a=\",a,\"b=\",b)\n",
    "print(\"a-b\")\n",
    "c= a-b\n",
    "print(c)"
   ]
  },
  {
   "cell_type": "code",
   "execution_count": 49,
   "metadata": {},
   "outputs": [
    {
     "name": "stdout",
     "output_type": "stream",
     "text": [
      "b= [0 1 2 3]\n",
      "b**2 =  [0 1 4 9]\n"
     ]
    }
   ],
   "source": [
    "print(\"b=\",b)\n",
    "print(\"b**2 = \",b**2)"
   ]
  },
  {
   "cell_type": "code",
   "execution_count": 51,
   "metadata": {},
   "outputs": [
    {
     "name": "stdout",
     "output_type": "stream",
     "text": [
      "d= [  0  45  90 135 180]\n",
      "sin a =  [ 0.          0.85090352  0.89399666  0.08836869 -0.80115264]\n"
     ]
    }
   ],
   "source": [
    "d=np.array([0,45,90,135,180])\n",
    "print(\"d=\",d)\n",
    "print(\"sin a = \",np.sin(d))"
   ]
  },
  {
   "cell_type": "code",
   "execution_count": 53,
   "metadata": {},
   "outputs": [
    {
     "name": "stdout",
     "output_type": "stream",
     "text": [
      "a= [20 30 40 50]\n",
      "a<35 = [ True  True False False]\n"
     ]
    }
   ],
   "source": [
    "print(\"a=\",a)\n",
    "print(\"a<35 =\",a<35)"
   ]
  },
  {
   "cell_type": "code",
   "execution_count": 68,
   "metadata": {},
   "outputs": [
    {
     "name": "stdout",
     "output_type": "stream",
     "text": [
      "[[1 1]\n",
      " [0 1]]\n",
      "[[2 0]\n",
      " [3 4]]\n",
      "A*B does elementwise\n",
      "[[2 0]\n",
      " [0 4]]\n"
     ]
    }
   ],
   "source": [
    "#MATRIX Multiplication\n",
    "#The matrix product can be performed using the @ operator (in python >=3.5) or the dot function or method:\n",
    "    \n",
    "A = np.array([[1,1],[0,1]])   \n",
    "B = np.array([[2,0],[3,4]])  \n",
    "\n",
    "print(A)\n",
    "print(B)\n",
    "print(\"A*B does elementwise\")\n",
    "print(A*B)  \n",
    "    "
   ]
  },
  {
   "cell_type": "code",
   "execution_count": 71,
   "metadata": {},
   "outputs": [
    {
     "name": "stdout",
     "output_type": "stream",
     "text": [
      "dot(A,B) does Matrix Multiplication\n",
      "[[5 4]\n",
      " [3 4]]\n",
      "[[5 4]\n",
      " [3 4]]\n",
      "[[5 4]\n",
      " [3 4]]\n"
     ]
    }
   ],
   "source": [
    "print(\"dot(A,B) does Matrix Multiplication\")\n",
    "print(np.dot(A,B))\n",
    "print(A.dot(B))\n",
    "print(A@B)\n"
   ]
  },
  {
   "cell_type": "code",
   "execution_count": 79,
   "metadata": {},
   "outputs": [
    {
     "name": "stdout",
     "output_type": "stream",
     "text": [
      "[[1 1 1]\n",
      " [1 1 1]]\n",
      "[[0.68172599 0.41766698 0.81043608]\n",
      " [0.96372927 0.9522775  0.1987239 ]]\n"
     ]
    }
   ],
   "source": [
    "# Some operations, such as += and *=, act in place to modify an existing array rather than create a new one.\n",
    "\n",
    "a = np.ones((2,3), dtype=int)\n",
    "\n",
    "b = np.random.random((2,3))\n",
    "print(a)\n",
    "print(b)"
   ]
  },
  {
   "cell_type": "code",
   "execution_count": 80,
   "metadata": {},
   "outputs": [
    {
     "name": "stdout",
     "output_type": "stream",
     "text": [
      "[[3 3 3]\n",
      " [3 3 3]]\n"
     ]
    }
   ],
   "source": [
    "a*=3\n",
    "print(a)"
   ]
  },
  {
   "cell_type": "code",
   "execution_count": 81,
   "metadata": {},
   "outputs": [
    {
     "name": "stdout",
     "output_type": "stream",
     "text": [
      "[[3.68172599 3.41766698 3.81043608]\n",
      " [3.96372927 3.9522775  3.1987239 ]]\n"
     ]
    }
   ],
   "source": [
    "b+=a\n",
    "print(b)"
   ]
  },
  {
   "cell_type": "code",
   "execution_count": 87,
   "metadata": {},
   "outputs": [
    {
     "name": "stdout",
     "output_type": "stream",
     "text": [
      "2.823066786255214\n",
      "0.017217190766003032\n",
      "0.9580889577810147\n"
     ]
    }
   ],
   "source": [
    "#Many unary operations, such as computing the sum of all the elements in the array, \n",
    "#are implemented as methods of the ndarray class.\n",
    "a = np.random.random((2,3))\n",
    "a\n",
    "print(a.sum())\n",
    "print(a.min())\n",
    "print(a.max())"
   ]
  },
  {
   "cell_type": "code",
   "execution_count": 96,
   "metadata": {},
   "outputs": [
    {
     "name": "stdout",
     "output_type": "stream",
     "text": [
      "[[ 0  1  2  3]\n",
      " [ 4  5  6  7]\n",
      " [ 8  9 10 11]]\n",
      "SUM by columnwise\n",
      "[12 15 18 21]\n",
      "SUM by Rowwise\n",
      "[ 6 22 38]\n"
     ]
    }
   ],
   "source": [
    "#By default, these operations apply to the array as though it were a list of numbers, regardless of its shape. \n",
    "#However, by specifying the axis parameter you can apply an operation along the specified axis of an array:\n",
    "\n",
    "b = np.arange(12).reshape(3,4)\n",
    "print(b)\n",
    "print(\"SUM by columnwise\")\n",
    "print(b.sum(axis=0))\n",
    "    \n",
    "print(\"SUM by Rowwise\")\n",
    "print(b.sum(axis=1))\n",
    "    "
   ]
  },
  {
   "cell_type": "markdown",
   "metadata": {},
   "source": [
    "## Universal Functions\n",
    "-NumPy provides familiar mathematical functions such as sin, cos, and exp. In NumPy, these are called “universal -functions”(ufunc). Within NumPy, these functions operate elementwise on an array, producing an array as output."
   ]
  },
  {
   "cell_type": "code",
   "execution_count": 100,
   "metadata": {},
   "outputs": [
    {
     "name": "stdout",
     "output_type": "stream",
     "text": [
      "[0 1 2]\n",
      "[1.         2.71828183 7.3890561 ]\n",
      "[0.         1.         1.41421356]\n"
     ]
    }
   ],
   "source": [
    "B = np.arange(3)\n",
    "print(B)\n",
    "print(np.exp(B))\n",
    "print(np.sqrt(B))\n"
   ]
  },
  {
   "cell_type": "markdown",
   "metadata": {
    "colab_type": "text",
    "id": "p7VWmXrcCj_y"
   },
   "source": [
    "## Aliaing , Deep Copy and View"
   ]
  },
  {
   "cell_type": "code",
   "execution_count": 8,
   "metadata": {
    "colab": {
     "base_uri": "https://localhost:8080/",
     "height": 87
    },
    "colab_type": "code",
    "executionInfo": {
     "elapsed": 4630,
     "status": "ok",
     "timestamp": 1576317893465,
     "user": {
      "displayName": "Saravanan Shanmugam",
      "photoUrl": "https://lh3.googleusercontent.com/a-/AAuE7mCt8MNo_DUF2SFnS4mm2a5-_JVEwU3AfMmp_xr5cg=s64",
      "userId": "15974090290983113505"
     },
     "user_tz": -330
    },
    "id": "51qQl-Bfw8Ao",
    "outputId": "5883d416-2824-4db3-f7fd-a5eec263a033"
   },
   "outputs": [
    {
     "name": "stdout",
     "output_type": "stream",
     "text": [
      "[1 2 3 0] [1 2 3 0]\n",
      "[99  2  3  0] [99  2  3  0]\n"
     ]
    }
   ],
   "source": [
    "#  Aliasing the array\n",
    "import numpy as np\n",
    "a = np.array([1,2,3,0])\n",
    "b=a\n",
    "print(a,b)\n",
    "a[0]=99\n",
    "\n",
    "print(a,b)\n",
    "\n"
   ]
  },
  {
   "cell_type": "code",
   "execution_count": 9,
   "metadata": {
    "colab": {
     "base_uri": "https://localhost:8080/",
     "height": 121
    },
    "colab_type": "code",
    "executionInfo": {
     "elapsed": 4615,
     "status": "ok",
     "timestamp": 1576317893477,
     "user": {
      "displayName": "Saravanan Shanmugam",
      "photoUrl": "https://lh3.googleusercontent.com/a-/AAuE7mCt8MNo_DUF2SFnS4mm2a5-_JVEwU3AfMmp_xr5cg=s64",
      "userId": "15974090290983113505"
     },
     "user_tz": -330
    },
    "id": "-_2ApSagw8Av",
    "outputId": "eddec733-7e96-4d0a-e05f-68d9184e4519"
   },
   "outputs": [
    {
     "name": "stdout",
     "output_type": "stream",
     "text": [
      "Deep Copy\n",
      "[1 2 3 0]\n",
      "[1 2 3 0]\n",
      "False\n",
      "[99  2  3  0]\n",
      "[1 2 3 0]\n"
     ]
    }
   ],
   "source": [
    "##Deep Copy\n",
    "a = np.array([1,2,3,0])\n",
    "b = a.copy()\n",
    "print(\"Deep Copy\")\n",
    "print(a)\n",
    "print(b)\n",
    "print(b is a)\n",
    "b[0]=99\n",
    "print(b)\n",
    "print(a)"
   ]
  },
  {
   "cell_type": "code",
   "execution_count": 14,
   "metadata": {
    "colab": {
     "base_uri": "https://localhost:8080/",
     "height": 87
    },
    "colab_type": "code",
    "executionInfo": {
     "elapsed": 4626,
     "status": "ok",
     "timestamp": 1576317893475,
     "user": {
      "displayName": "Saravanan Shanmugam",
      "photoUrl": "https://lh3.googleusercontent.com/a-/AAuE7mCt8MNo_DUF2SFnS4mm2a5-_JVEwU3AfMmp_xr5cg=s64",
      "userId": "15974090290983113505"
     },
     "user_tz": -330
    },
    "id": "NcN1DdO_w8Ar",
    "outputId": "a0b424ea-86d8-416e-f08c-b9e39dabcf9b"
   },
   "outputs": [
    {
     "name": "stdout",
     "output_type": "stream",
     "text": [
      "[1 2 3 0]\n",
      "[1 2 3 0]\n",
      "[99  2  3  0]\n",
      "[99  2  3  0]\n",
      "False\n",
      "True\n"
     ]
    }
   ],
   "source": [
    "# creating view\n",
    "a = np.array([1,2,3,0])\n",
    "b=a.view() # it is also called as shallow copy.it is different from alias. it has separate memory. \n",
    "print(a)\n",
    "print(b)\n",
    "b[0]=99\n",
    "print(a)\n",
    "print(b)\n",
    "print(b is a)\n",
    "print(b.base is a)"
   ]
  },
  {
   "cell_type": "markdown",
   "metadata": {
    "colab_type": "text",
    "id": "Wgs0DqufC7EP"
   },
   "source": [
    "## Slicing and indexing Numpy Arrays"
   ]
  },
  {
   "cell_type": "code",
   "execution_count": 16,
   "metadata": {
    "colab": {
     "base_uri": "https://localhost:8080/",
     "height": 87
    },
    "colab_type": "code",
    "executionInfo": {
     "elapsed": 4605,
     "status": "ok",
     "timestamp": 1576317893480,
     "user": {
      "displayName": "Saravanan Shanmugam",
      "photoUrl": "https://lh3.googleusercontent.com/a-/AAuE7mCt8MNo_DUF2SFnS4mm2a5-_JVEwU3AfMmp_xr5cg=s64",
      "userId": "15974090290983113505"
     },
     "user_tz": -330
    },
    "id": "rZuv-Lccw8Ay",
    "outputId": "6bdb186e-0f59-4267-a7e8-3d7e66acb895"
   },
   "outputs": [
    {
     "name": "stdout",
     "output_type": "stream",
     "text": [
      "array a slice a[1:6:2] is  [11 13 15]\n",
      "array a slice a[::] is  [10 11 12 13 14 15]\n",
      "array a slice a[2:] is  [12 13 14 15]\n",
      "array a slice a[5:2:-1] is  [15 14 13]\n"
     ]
    }
   ],
   "source": [
    "# arrayname[Start,Stop,StepSize]\n",
    "a=np.array([10,11,12,13,14,15])\n",
    "print(\"array a slice a[1:6:2] is \", a[1:6:2])\n",
    "print(\"array a slice a[::] is \", a[::])\n",
    "print(\"array a slice a[2:] is \", a[2:])\n",
    "print(\"array a slice a[5:2:-1] is \", a[5:2:-1])\n",
    "\n"
   ]
  }
 ],
 "metadata": {
  "colab": {
   "collapsed_sections": [
    "XUZdJrX9vXMu",
    "1BLGViHs1xf8",
    "KFLkAYPu14bz"
   ],
   "name": "07-ArraysInPython.ipynb",
   "provenance": [],
   "toc_visible": true
  },
  "kernelspec": {
   "display_name": "Python 3",
   "language": "python",
   "name": "python3"
  },
  "language_info": {
   "codemirror_mode": {
    "name": "ipython",
    "version": 3
   },
   "file_extension": ".py",
   "mimetype": "text/x-python",
   "name": "python",
   "nbconvert_exporter": "python",
   "pygments_lexer": "ipython3",
   "version": "3.7.3"
  }
 },
 "nbformat": 4,
 "nbformat_minor": 1
}

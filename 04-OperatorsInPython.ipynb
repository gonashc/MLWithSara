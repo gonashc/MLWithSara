{
 "cells": [
  {
   "cell_type": "markdown",
   "metadata": {},
   "source": [
    "### Operators in Python\n",
    "\n",
    "    Operator is a symbol that performs an Operation.    \n",
    "        Unary Operator - Acrs on single Variable    \n",
    "        Binary Operator - Acts on two variables\n",
    "        Ternary Operator - Acts on more than 2 variables\n",
    "    \n",
    "1. Arithemetic Operators\n",
    "2. Assigment Operators\n",
    "3. Unary Minus Operators\n",
    "4. Relational Operators\n",
    "5. Logical Operators\n",
    "6. Boolean Operator\n",
    "7. Bitwise Operator\n",
    "8. Membership Operator\n",
    "9. Identity Operator"
   ]
  },
  {
   "cell_type": "code",
   "execution_count": 1,
   "metadata": {},
   "outputs": [
    {
     "name": "stdout",
     "output_type": "stream",
     "text": [
      "a= 13 b= 5\n",
      "Addition: a+b =  18\n",
      "Subraction: a-b =  8\n",
      "Multiplication: a*b =  65\n",
      "Division: a/b =  2.6\n",
      "Modulus: a%b =  3\n",
      "Exponent: a**b =  371293\n",
      "Integer Division: a//b =  2\n"
     ]
    }
   ],
   "source": [
    "### Arithemetic Operators\n",
    "#########################\n",
    "a=13\n",
    "b=5\n",
    "print(\"a=\",a,\"b=\",b)\n",
    "print(\"Addition: a+b = \", a+b)\n",
    "print(\"Subraction: a-b = \", a-b)\n",
    "print(\"Multiplication: a*b = \", a*b)\n",
    "print(\"Division: a/b = \", a/b)\n",
    "print(\"Modulus: a%b = \", a%b)\n",
    "print(\"Exponent: a**b = \", a**b)\n",
    "print(\"Integer Division: a//b = \", a//b)"
   ]
  },
  {
   "cell_type": "code",
   "execution_count": 1,
   "metadata": {},
   "outputs": [
    {
     "name": "stdout",
     "output_type": "stream",
     "text": [
      "x= 20 y= 10 z= 5\n",
      "z=x+y : z= 30\n",
      "z+=x : z= 25\n",
      "z-=x : z= -15\n",
      "z*=x : z= 100\n",
      "z/=x : z= 0.25\n",
      "a= 1 b= 1\n",
      "a= 1 b= 2\n",
      "a= -1\n"
     ]
    }
   ],
   "source": [
    "### Assignment Operators\n",
    "#########################\n",
    "\n",
    "x,y,z=20,10,5\n",
    "print(\"x=\",x,\"y=\",y,\"z=\",z)\n",
    "\n",
    "x,y,z=20,10,5\n",
    "z=x+y\n",
    "print(\"z=x+y : z=\",z)\n",
    "\n",
    "x,y,z=20,10,5\n",
    "z+=x\n",
    "print(\"z+=x : z=\",z)\n",
    "\n",
    "x,y,z=20,10,5\n",
    "z-=x\n",
    "print(\"z-=x : z=\",z)\n",
    "\n",
    "x,y,z=20,10,5\n",
    "z*=x\n",
    "print(\"z*=x : z=\",z)\n",
    "\n",
    "x,y,z=20,10,5\n",
    "z/=x\n",
    "print(\"z/=x : z=\",z)\n",
    "\n",
    "a=b=1\n",
    "print(\"a=\",a,\"b=\",b)\n",
    "\n",
    "a,b=1,2\n",
    "print(\"a=\",a,\"b=\",b)\n",
    "\n",
    "a=-1 # unary minus operator\n",
    "print(\"a=\",a)"
   ]
  },
  {
   "cell_type": "code",
   "execution_count": 3,
   "metadata": {},
   "outputs": [
    {
     "name": "stdout",
     "output_type": "stream",
     "text": [
      "a= 1 b= 2\n",
      "a>b =  False\n",
      "a>=b =  False\n",
      "a<b =  True\n",
      "a<=b =  True\n",
      "a==b =  False\n",
      "a!=b =  True\n",
      "0<a<=1 =  True\n",
      "0<b<1 =  False\n"
     ]
    }
   ],
   "source": [
    "### Relational Operators\n",
    "\n",
    "a=1\n",
    "b=2\n",
    "print(\"a=\",a,\"b=\",b)\n",
    "\n",
    "print(\"a>b = \",a>b)\n",
    "\n",
    "print(\"a>=b = \",a>=b)\n",
    "\n",
    "print(\"a<b = \",a<b)\n",
    "\n",
    "print(\"a<=b = \",a<=b)\n",
    "\n",
    "print(\"a==b = \",a==b)\n",
    "\n",
    "print(\"a!=b = \",a!=b)\n",
    "\n",
    "#Relational Operators can be chained\n",
    "\n",
    "print(\"0<a<=1 = \",0<a<=1)\n",
    "print(\"0<b<1 = \",0<b<1)\n"
   ]
  },
  {
   "cell_type": "code",
   "execution_count": 4,
   "metadata": {},
   "outputs": [
    {
     "name": "stdout",
     "output_type": "stream",
     "text": [
      "x= 100 y=  200\n",
      "x>100 and y>100 = False\n",
      "x>=100 or y>100 = True\n",
      "not(x>100 and y>100) = True\n"
     ]
    }
   ],
   "source": [
    "### Logical Operators\n",
    "### Logical Operators are useful to construct the compound conditions. A compound conditions \n",
    "### is a combination of more than one simple condition\n",
    "\n",
    "x=100\n",
    "y=200\n",
    "\n",
    "print(\"x=\",x,\"y= \",y)\n",
    "\n",
    "print(\"x>100 and y>100 =\"  , x>100 and y>100)\n",
    "\n",
    "print(\"x>=100 or y>100 =\"  , x>=100 or y>100)\n",
    "\n",
    "print(\"not(x>100 and y>100) =\"  , not(x>100 and y>100))\n"
   ]
  },
  {
   "cell_type": "code",
   "execution_count": 7,
   "metadata": {},
   "outputs": [
    {
     "name": "stdout",
     "output_type": "stream",
     "text": [
      "x and y = False\n",
      "x or y = True\n"
     ]
    }
   ],
   "source": [
    "### Boolean Operators\n",
    "\n",
    "### Boolean operators acts on boolean type literals( True , False) and returns Boolean values.\n",
    "\n",
    "x= True\n",
    "y= False\n",
    "\n",
    "print(\"x and y =\", x and y)\n",
    "print(\"x or y =\", x or y)\n",
    "\n"
   ]
  },
  {
   "cell_type": "code",
   "execution_count": 13,
   "metadata": {},
   "outputs": [
    {
     "name": "stdout",
     "output_type": "stream",
     "text": [
      "Complement Operator on x =  -4\n",
      "Bitwise x AND Y =  10\n"
     ]
    }
   ],
   "source": [
    "### Bitwise Operators\n",
    "### these operators acts on individual bits\n",
    "\n",
    "### 1. bitwise Complement Operator ( ~ ) \n",
    "### 2. bitwise AND Operator ( & ) \n",
    "### 3. bitwise OR Operator ( | )\n",
    "### 4. bitwise XOR Operator ( ^ )\n",
    "### 5. bitwise Left Shift Operator  ( << )\n",
    "### 6. bitwise Right Shift Operator ( >> )\n",
    "### 7. bitwise And Operator\n",
    "\n",
    "x=3\n",
    "print(\"Complement Operator on x = \", ~x)\n",
    "\n",
    "x,y=10,11\n",
    "print(\"Bitwise x AND Y = \",x&y)\n"
   ]
  },
  {
   "cell_type": "code",
   "execution_count": null,
   "metadata": {},
   "outputs": [],
   "source": [
    "### 0000 1010 --> X\n",
    "### 0000 1011 --> Y\n",
    "### ----------- AND\n",
    "### 0000 1010 --> 10\n",
    "\n",
    "x,y=10,11\n",
    "print(\"Bitwise x OR Y = \",x|y)\n",
    "### 0000 1010 --> X\n",
    "### 0000 1011 --> Y\n",
    "### ----------- OR\n",
    "### 0000 1011 --> 11\n",
    "\n",
    "\n",
    "x,y=10,11\n",
    "print(\"Bitwise x XOR Y = \",x^y)\n",
    "### 0000 1010 --> X\n",
    "### 0000 1011 --> Y\n",
    "### ----------- XOR\n",
    "### 0000 0001 --> 1\n",
    "\n",
    "x=10\n",
    "print(\"Bitwise x>>2 = \",x>>2)\n",
    "### 0000 1010 --> X\n",
    "### ----------- X>>\n",
    "### 0000 0010 --> 2\n"
   ]
  },
  {
   "cell_type": "code",
   "execution_count": 7,
   "metadata": {},
   "outputs": [
    {
     "name": "stdout",
     "output_type": "stream",
     "text": [
      "Rani\n",
      "Yamini\n",
      "Sushmita\n",
      "Veena\n",
      "not found\n",
      "Rani\n",
      "Yamini\n",
      "Sushmita\n",
      "Veena\n",
      "Sara\n",
      "Found\n"
     ]
    }
   ],
   "source": [
    "### Membership Operators\n",
    "\n",
    "### The membership operators are useful to test for membership in a sequence like string,list, tuple or dictionaries.\n",
    "### membership operators are\n",
    "### in\n",
    "### not in \n",
    "\n",
    "names=[\"Rani\",\"Yamini\",\"Sushmita\",\"Veena\"]\n",
    "\n",
    "for name in names:\n",
    "    print(name)\n",
    "\n",
    "myname=\"Sara\"\n",
    "\n",
    "if myname not in names:\n",
    "    print(\"not found\")\n",
    "else:\n",
    "    print(\"Found\")\n",
    "\n",
    "names.append(myname)\n",
    "\n",
    "\n",
    "for name in names:\n",
    "    print(name)\n",
    "\n",
    "\n",
    "if myname not in names:\n",
    "    print(\"not found\")\n",
    "else:\n",
    "    print(\"Found\")\n"
   ]
  },
  {
   "cell_type": "code",
   "execution_count": 9,
   "metadata": {},
   "outputs": [
    {
     "name": "stdout",
     "output_type": "stream",
     "text": [
      " both variables are refering the same object\n",
      "ID of a = 140716940236352\n",
      "ID of b = 140716940236352\n",
      " both variables have different objects\n",
      "ID of a = 140716940236352\n",
      "ID of b = 140716940236384\n"
     ]
    }
   ],
   "source": [
    "### Identity Operators \n",
    "### These operators compare the memory location of two objects\n",
    "### it is possible to find out whether 2 variables pointing to the same object or not\n",
    "\n",
    "### Identity Operators are\n",
    "###  is ---> both objects are the same \n",
    "###  is not --> if both objects are different\n",
    "\n",
    "a=25\n",
    "b=25\n",
    "if (a is b):\n",
    "    print(\" both variables are refering the same object\")\n",
    "else:\n",
    "     print(\" both variables have different object\")\n",
    "\n",
    "print(\"ID of a =\", id(a))\n",
    "print(\"ID of b =\", id(b))\n",
    "\n",
    "b=26\n",
    "if (a is b):\n",
    "    print(\" both variables are refering the same object\")\n",
    "else:\n",
    "     print(\" both variables have different objects\")\n",
    "\n",
    "### Note: Id() can we use to find out object id.\n",
    "\n",
    "print(\"ID of a =\", id(a))\n",
    "print(\"ID of b =\", id(b))\n",
    "    "
   ]
  },
  {
   "cell_type": "code",
   "execution_count": 9,
   "metadata": {},
   "outputs": [],
   "source": [
    "### Operator Precedence and Associativity\n",
    "\n",
    "### the sequence of execution of operators is called operator precedence\n",
    "\n",
    "### if the expression has the operators which have same precedence then \n",
    "### in python  executions starts from left to right. this is called associativity\n",
    "\n",
    "### Refer page#87 in the book for more info\n"
   ]
  },
  {
   "cell_type": "code",
   "execution_count": 10,
   "metadata": {},
   "outputs": [],
   "source": [
    "### Mathematic Functions\n",
    "\n",
    "### Operators are very handy when we do the fundamental operations. \n",
    "### but we can use built in functions given in python for various advanced operations.\n",
    "\n",
    "import math\n",
    "print(\"the square root of 16 =\", math.sqrt(16))\n",
    "\n",
    "import math as m\n",
    "print(\"the square root of 25 =\", m.sqrt(25))\n",
    "\n",
    "from math import sqrt # only sqrt function will be imported from that library\n",
    "print(\"the square root of 36 =\", sqrt(36))\n",
    "\n",
    "### Refer Page# 89,90,91 for more math built in functions\n"
   ]
  },
  {
   "cell_type": "code",
   "execution_count": 11,
   "metadata": {},
   "outputs": [],
   "source": [
    "### IDLE and Commandline \n",
    "\n",
    "### IDLE is a python app which will open python shell window \n",
    "### when we can type python program and press enter to execute\n",
    "\n",
    "### in windows commandLine you can execute python code\n",
    "\n",
    "###> type python and enter ----> it opens python shell window where we can type python code and execute"
   ]
  },
  {
   "cell_type": "code",
   "execution_count": 12,
   "metadata": {},
   "outputs": [],
   "source": [
    "### Jupyter Keyboard help\n",
    "### Ctrl+ Enter --> Run the current cell"
   ]
  }
 ],
 "metadata": {
  "kernelspec": {
   "display_name": "Python 3",
   "language": "python",
   "name": "python3"
  },
  "language_info": {
   "codemirror_mode": {
    "name": "ipython",
    "version": 3
   },
   "file_extension": ".py",
   "mimetype": "text/x-python",
   "name": "python",
   "nbconvert_exporter": "python",
   "pygments_lexer": "ipython3",
   "version": "3.7.3"
  }
 },
 "nbformat": 4,
 "nbformat_minor": 2
}

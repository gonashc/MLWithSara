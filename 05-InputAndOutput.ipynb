{
 "cells": [
  {
   "cell_type": "markdown",
   "metadata": {},
   "source": [
    "### Input and Output\n",
    "\n",
    "To provide input to a computer, python provides some statements which are called input statements\n",
    "similarly to display the output it provides some output statements\n",
    "\n",
    "- print()\n",
    "- print(\"%s %i\"%())\n",
    "- print(\"{1}{2}\".format(i,j))\n",
    "- input(\"\")\n",
    "- x,y,z= int(x) for x in input(\"\").split()\n",
    "- eval(input(\"\"))\n",
    "    "
   ]
  },
  {
   "cell_type": "code",
   "execution_count": null,
   "metadata": {
    "scrolled": true
   },
   "outputs": [],
   "source": [
    "### Output statements are\n",
    "\n",
    "print()\n",
    "print(\"Sara\")\n",
    "\n",
    "a,b=5,8\n",
    "print(a,b)\n",
    "print(a,b,sep=\"~\")\n",
    "print()\n",
    "\n",
    "print(\"Hello\")\n",
    "print(\"Dear\")\n",
    "print(\"How are you?\")\n",
    "print()\n"
   ]
  },
  {
   "cell_type": "code",
   "execution_count": null,
   "metadata": {},
   "outputs": [],
   "source": [
    "### to print the above in the same line\n",
    "\n",
    "print(\"Hello\", end=' #  ')\n",
    "print(\"Dear\", end='    ')\n",
    "print(\"How are you?\", end='')\n",
    "print(\"\\n\")"
   ]
  },
  {
   "cell_type": "code",
   "execution_count": null,
   "metadata": {},
   "outputs": [],
   "source": [
    "#print object\n",
    "\n",
    "myLst=[\"sara\",\"vijay\",\"Anand\"]\n",
    "\n",
    "print(myLst)\n",
    "print()\n"
   ]
  },
  {
   "cell_type": "code",
   "execution_count": null,
   "metadata": {},
   "outputs": [],
   "source": [
    "# Another Method -2 #\n",
    "\n",
    "#print formatted statement\n",
    "# print(\"formatted string\" %(variable list))\n",
    "# %i or %d - integer\n",
    "# %s - String\n",
    "# $f - floatVa\n",
    "\n",
    "x=10\n",
    "name = 'sara'\n",
    "\n",
    "print(\"value = %2i %2s:\" %(x,name))\n",
    "print()\n"
   ]
  },
  {
   "cell_type": "code",
   "execution_count": null,
   "metadata": {},
   "outputs": [],
   "source": [
    "\n",
    "# we can display single character from the string\n",
    "print(\"value = %2i %20s:\" %(x,name))\n",
    "\n",
    "salary = 156999.834\n",
    "print(\"Salary = %8.1f:\" %(salary))"
   ]
  },
  {
   "cell_type": "code",
   "execution_count": null,
   "metadata": {},
   "outputs": [],
   "source": [
    "#### Another Method String.Format #########\n",
    "# formatted string with replacement field\n",
    "# print(\"formatted string {0} with replacement\".format(values))\n",
    "\n",
    "x,y=5,10\n",
    "\n",
    "print(\"Values X={0} and Y={1}\".format(x,y))"
   ]
  },
  {
   "cell_type": "code",
   "execution_count": null,
   "metadata": {},
   "outputs": [],
   "source": [
    "# Input Statements\n",
    "# use input() to accepts the value from the keyboard and returns it as string\n",
    "\n",
    "salary = float(input(\"Enter your Salary : \"))\n",
    "print(\"Salary = %8.2f\" %(salary))\n",
    "print(\"Salary = {0}\".format(salary))"
   ]
  },
  {
   "cell_type": "code",
   "execution_count": null,
   "metadata": {},
   "outputs": [],
   "source": [
    "#### use the below syntax to accept more than one input values from the user\n",
    "\n",
    "= int(x) for x in input(\"Enter numbers :\").split(',')\n",
    "print(x+y+z)\n"
   ]
  },
  {
   "cell_type": "code",
   "execution_count": 1,
   "metadata": {},
   "outputs": [
    {
     "name": "stdout",
     "output_type": "stream",
     "text": [
      "Enter numbers :1,2,3,4,5\n",
      "15\n"
     ]
    }
   ],
   "source": [
    "from functools import reduce,red\n",
    "\n",
    "\n",
    "\n",
    "NumList= list([int(x) for x in input(\"Enter numbers :\").split(',')])\n",
    "print(ft.reduce(lambda x,y: x+y,NumList))"
   ]
  },
  {
   "cell_type": "code",
   "execution_count": null,
   "metadata": {},
   "outputs": [],
   "source": [
    "x,y=[ int(x) for x in range(2)]\n",
    "print(x,y)"
   ]
  },
  {
   "cell_type": "code",
   "execution_count": null,
   "metadata": {},
   "outputs": [],
   "source": [
    "# use the eval() along with input function to accept string from the user and execute it\n",
    "x = eval(input(\"Enter an expression : \"))\n",
    "print(\"Result = \", x)"
   ]
  },
  {
   "cell_type": "code",
   "execution_count": null,
   "metadata": {},
   "outputs": [],
   "source": [
    "# command line arguments are passed to the program from outside. All the arguments are stored by defaults as strings in \n",
    "\n",
    "# a list with the name \"argv\" which is available in the sys module.\n",
    "# argv[0] - name of the program\n",
    "# argv[1] - first argument\n",
    "# argv[2] - second argument...\n",
    "\n",
    "# len(argv)-1 -> number of arguments passed by the user\n",
    "\n",
    "# parsing command line arguments using argparse module\n",
    "\n",
    "import argparse\n",
    "\n",
    "parser = argparse.ArgumentParser()\n",
    "\n",
    "parser.add_argument('nums',nargs=2)\n",
    "\n",
    "args=parser.parse_args()\n",
    "\n",
    "print(\"Number=\",args.nums[0])\n",
    "print(\"Its Power\", args.nums[1])\n",
    "\n",
    "result= float(args.nums[0])**float(args.nums[1])\n",
    "\n",
    "print(\"Results =\",result)\n"
   ]
  },
  {
   "cell_type": "code",
   "execution_count": null,
   "metadata": {},
   "outputs": [],
   "source": []
  }
 ],
 "metadata": {
  "kernelspec": {
   "display_name": "Python 3",
   "language": "python",
   "name": "python3"
  },
  "language_info": {
   "codemirror_mode": {
    "name": "ipython",
    "version": 3
   },
   "file_extension": ".py",
   "mimetype": "text/x-python",
   "name": "python",
   "nbconvert_exporter": "python",
   "pygments_lexer": "ipython3",
   "version": "3.7.3"
  }
 },
 "nbformat": 4,
 "nbformat_minor": 2
}

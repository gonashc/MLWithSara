{
 "cells": [
  {
   "cell_type": "markdown",
   "metadata": {},
   "source": [
    "### Control Statements\n",
    "\n",
    "In python, usually the statements in the program are normally executed one by one from top to bottow. this type of execution is\n",
    "called as \"Sequential execution\". it may be suitable for simple programs\n",
    "But for complex program we should be able to change the flow of execution as we needed.i.e we should be able to repeat the\n",
    "group of statements multiple times or we may want to directly jump from one statement to another.\n",
    "for this purpose we have control statements\n",
    "\n",
    "Control Statements in python are\n",
    "\n",
    "1. if statement\n",
    "2. if ... else statement\n",
    "3. if ... elif ...else statement\n",
    "4. while loop\n",
    "5. for loop\n",
    "6. else suite\n",
    "7. break statement\n",
    "8. continue statement\n",
    "9. pass statement\n",
    "10. assert statement\n",
    "11. return statement"
   ]
  },
  {
   "cell_type": "code",
   "execution_count": null,
   "metadata": {},
   "outputs": [],
   "source": [
    "# example for if statement wiht indentation\n",
    "\n",
    "x=1\n",
    "y=2\n",
    "if x==1: # No paranthesis but end with \":\"\n",
    "    print(\"a\")\n",
    "    print(\"b\")\n",
    "    if y==2:\n",
    "        print(\"c\")\n",
    "        print(\"d\")\n",
    "    print(\"end\")\n",
    "    \n",
    "x=1\n",
    "y=0\n",
    "if x==1:\n",
    "    print(\"a\")\n",
    "    print(\"b\")\n",
    "    if y==2:\n",
    "        print(\"c\")\n",
    "        print(\"d\")\n",
    "    print(\"end\")\n",
    "    \n"
   ]
  },
  {
   "cell_type": "code",
   "execution_count": null,
   "metadata": {},
   "outputs": [],
   "source": [
    "# program to test the given number is between 1 to 10\n",
    "\n",
    "x=int(input(\"Enter the number\"))\n",
    "\n",
    "if x>=1 and x<=10 :\n",
    "    print(\"the given number is in between 1 and 10\")\n",
    "else:\n",
    "    print(\"the given number is in NOT between 1 and 10\") \n",
    "    \n"
   ]
  },
  {
   "cell_type": "code",
   "execution_count": null,
   "metadata": {},
   "outputs": [],
   "source": [
    "#### program to accept a number and display in words using if...elif....else\n",
    "\n",
    "num1 = int(input(\"please enter a number :\"))\n",
    "\n",
    "if(num1==1):\n",
    "    print(\"the number you have entered is ONE\")\n",
    "elif(num1==2):\n",
    "    print(\"the number you have entered is TWO\")\n",
    "elif(num1==3):\n",
    "    print(\"the number you have entered is THREE\")\n",
    "elif(num1==4):\n",
    "    print(\"the number you have entered is FOUR\")\n",
    "elif(num1==5):\n",
    "    print(\"the number you have entered is FIVE\")\n",
    "else:\n",
    "    print(\"NOT in the Range 1 to 5\")\n",
    "    "
   ]
  },
  {
   "cell_type": "markdown",
   "metadata": {},
   "source": [
    "###  While Loop and FOR Loop in \n",
    "\n",
    "it is useful to execute set of statements multiple times\n",
    "\n",
    "1. while loop - it will gets executed unless the condition become false\n",
    "    \n",
    "2. for loop - it will execute the statements repeatedly depending upon the number of elements in the sequence\n",
    "\n"
   ]
  },
  {
   "cell_type": "code",
   "execution_count": null,
   "metadata": {},
   "outputs": [],
   "source": [
    "#while loop example \n",
    "# to display even numbers between m and n\n",
    "\n",
    "m,n = [int(x) for x in input(\" please enter start and end number :\").split(',')]\n",
    "num=m\n",
    "while num>= m and num<=n :\n",
    "    if num%2==0:\n",
    "        print(\"%i is the even number\"%num)\n",
    "    num+=1"
   ]
  },
  {
   "cell_type": "code",
   "execution_count": null,
   "metadata": {},
   "outputs": [],
   "source": [
    "#for loop example\n",
    "# program to display and find the sume of a list of numbers\n",
    "\n",
    "myLst= [10,20,30,40,50,100]\n",
    "sum=0\n",
    "for num in myLst:\n",
    "    print(num)\n",
    "    sum+=num\n",
    "print(\"sum=\",sum)\n",
    "    \n"
   ]
  },
  {
   "cell_type": "code",
   "execution_count": null,
   "metadata": {},
   "outputs": [],
   "source": [
    "#for loop example\n",
    "# program to display and find the sume of a list of numbers\n",
    "\n",
    "myLst= [10,20,30,40,50,100]\n",
    "i=0\n",
    "sum=0\n",
    "while(i<6):\n",
    "    print(myLst[i])\n",
    "    sum+=myLst[i]\n",
    "    i+=1\n",
    "print(\"sum=\",sum)\n",
    "    "
   ]
  },
  {
   "cell_type": "markdown",
   "metadata": {},
   "source": [
    "Note: Beware of INFINITE loop while using WHILE Loops"
   ]
  },
  {
   "cell_type": "markdown",
   "metadata": {},
   "source": [
    "#### The ELSE suite with BREAK statements\n",
    "#for (var in sequence):\n",
    "    statements\n",
    "#else\n",
    "    statements\n",
    "\n",
    "The statements after the else are called as else suite. it gets always executed finally irrespective whether for/while loop statement executed or not"
   ]
  },
  {
   "cell_type": "code",
   "execution_count": 5,
   "metadata": {},
   "outputs": [
    {
     "name": "stdout",
     "output_type": "stream",
     "text": [
      "Number found in the list\n",
      "Number found in the list\n",
      "Number found in the list\n",
      "Number found in the list\n",
      "Number found in the list\n",
      "Number found in the list\n",
      "Number found in the list\n",
      "next set of stmts starts\n"
     ]
    }
   ],
   "source": [
    "#### Python program to search for an elements in the list of elements\n",
    "myLst=[1,2,3,4,5,21,23]\n",
    "for x in myLst:\n",
    "    print(\"Number found in the list\")\n",
    "print(\"next set of stmts starts\")\n"
   ]
  },
  {
   "cell_type": "code",
   "execution_count": 10,
   "metadata": {},
   "outputs": [
    {
     "name": "stdout",
     "output_type": "stream",
     "text": [
      "1\n",
      "2\n",
      "3\n",
      "14\n",
      "5\n",
      "21\n",
      "23\n"
     ]
    }
   ],
   "source": [
    "#### Python program to search for an elements in the list of elements\n",
    "myLst=[1,2,3,14,5,21,23]\n",
    "for x in myLst:\n",
    "    if x==4:\n",
    "        break\n",
    "    else:\n",
    "        print(x)\n"
   ]
  },
  {
   "cell_type": "code",
   "execution_count": null,
   "metadata": {},
   "outputs": [],
   "source": [
    "# the CONTINUE statement and PASS statement\n",
    "# CONTINUE - this statement is used in a loop to go back to beginning of the LOOP.\n",
    "# PASS - this statement does not do anything. it is used with the if statement or \n",
    "# for statement inside a loop to do NO operation\n",
    "\n",
    "# program to retrieve only negative number from the LIST\n",
    "\n",
    "myLst=[1,2,3,-4,5,-6,7,-9]\n",
    "\n",
    "for x in myLst:\n",
    "    if x==5:\n",
    "        break  # to come out from the for loop\n",
    "   \n",
    "    if x<0 :\n",
    "        print(x)\n",
    "      \n",
    "    else:\n",
    "        pass"
   ]
  },
  {
   "cell_type": "code",
   "execution_count": null,
   "metadata": {},
   "outputs": [],
   "source": [
    "# ASSERT\n",
    "# the assert statement is useful to check if a particular condition is fulfilled or not\n",
    "\n",
    "#assert expression,message\n",
    "\n",
    "x=1    \n",
    "assert x>0,\"Wrong Input\"\n",
    "\n",
    "    \n",
    "try:\n",
    "    x=-1 \n",
    "    y= x/0\n",
    "\n",
    "except AssertionError:\n",
    "    print(\"wrong input entered\")\n",
    "except ZeroDivisionError: \n",
    "    print(\"Dont enter Zero\")"
   ]
  }
 ],
 "metadata": {
  "kernelspec": {
   "display_name": "Python 3",
   "language": "python",
   "name": "python3"
  },
  "language_info": {
   "codemirror_mode": {
    "name": "ipython",
    "version": 3
   },
   "file_extension": ".py",
   "mimetype": "text/x-python",
   "name": "python",
   "nbconvert_exporter": "python",
   "pygments_lexer": "ipython3",
   "version": "3.7.3"
  }
 },
 "nbformat": 4,
 "nbformat_minor": 2
}

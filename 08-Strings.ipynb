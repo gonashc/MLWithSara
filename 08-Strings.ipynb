{
 "cells": [
  {
   "cell_type": "markdown",
   "metadata": {},
   "source": [
    "- Introduction to Strings\n",
    "- Escape Characters in Strings\n",
    "- Len Function\n",
    "- String - Slicing \n",
    "- String Concatenation(+) and Repeat(*)\n",
    "- membership in Strings\n",
    "- Finding substring using find(),rfind(),index(),rindex()\n",
    "- Other methods - count(),split(), join()\n",
    "  upper(),lower(),swapcase(),title(),startswith(),endswith(),format(),sort()"
   ]
  },
  {
   "cell_type": "markdown",
   "metadata": {},
   "source": [
    "\n",
    "### Strings and characters\n",
    "\n",
    "String represents group of UNICODE characters\n",
    "str represents String datatype. there is no separate datatype for characters\n",
    "\n",
    "\"Apple\",'Ball' or \"\"\"Cat\"\"\" can be used to string assignment. triple quotes is used when string is multiline\n",
    "string within string is possible \" welcome to 'core' python programming\"\n",
    "\n",
    "we can access the characters withinthe string. mystr[0] gives the first character of the string.\n",
    "escape characters are\n",
    "\n",
    "\\a - bell or a\n",
    "\n",
    "\\b - backspace\n",
    "\n",
    "\\n - new line\n",
    "\n",
    "\\t - tab\n",
    "\n",
    "\\v - vertical tab space\n",
    "\n",
    "\\r - enter button\n",
    "\n",
    "\\\\ - displays single backslash "
   ]
  },
  {
   "cell_type": "code",
   "execution_count": 1,
   "metadata": {},
   "outputs": [
    {
     "name": "stdout",
     "output_type": "stream",
     "text": [
      "INDIA\n",
      "hello\n",
      "how \n",
      "are \n",
      "you\n",
      "\n",
      "I\n"
     ]
    }
   ],
   "source": [
    "\"\"\"\n",
    "function nae:\n",
    "sdfjksd\n",
    "askldnflkajs\n",
    "ask;dfnkas\n",
    "\n",
    "\"\"\"\n",
    "\n",
    "\n",
    "\n",
    "def fin\n",
    "\n",
    "\n",
    "# substring within the string\n",
    "str = \"INDIA\"\n",
    "print(str)\n",
    "\n",
    "dcstr = \"\"\"hello\n",
    "how \n",
    "are \n",
    "you\n",
    "\"\"\"\n",
    "\n",
    "print(dcstr)\n",
    "\n",
    "# access a character within the string\n",
    "print(str[0])\n",
    "\n"
   ]
  },
  {
   "cell_type": "code",
   "execution_count": 2,
   "metadata": {},
   "outputs": [
    {
     "name": "stdout",
     "output_type": "stream",
     "text": [
      "alert \u0007 backspace \b  newline \n",
      " tab \t vertical tab space \u000b",
      " enter \r",
      " \n",
      "backslash \\\n"
     ]
    }
   ],
   "source": [
    "# escape characters within the string\n",
    "print(\"alert \\a backspace \\b  newline \\n tab \\t vertical tab space \\v enter \\r \")\n",
    "print(\"backslash \\\\\")\n",
    "\n"
   ]
  },
  {
   "cell_type": "code",
   "execution_count": 3,
   "metadata": {
    "scrolled": true
   },
   "outputs": [
    {
     "name": "stdout",
     "output_type": "stream",
     "text": [
      "length of the string 9\n",
      "P\n",
      "y\n",
      "t\n",
      "h\n",
      "o\n",
      "n\n",
      "3\n",
      ".\n",
      "5\n"
     ]
    }
   ],
   "source": [
    "\n",
    "#length of the string\n",
    "str= \"Python3.5\"\n",
    "n= len(str)\n",
    "print(\"length of the string\", n)\n",
    "# indexing the string\n",
    "\n",
    "for i in str:\n",
    "    print(i)\n",
    "\n",
    "    "
   ]
  },
  {
   "cell_type": "code",
   "execution_count": 19,
   "metadata": {},
   "outputs": [
    {
     "name": "stdout",
     "output_type": "stream",
     "text": [
      "output of mystr is  ar\n",
      "output of mystr is  ra\n",
      "output of mystr is  rS\n"
     ]
    }
   ],
   "source": [
    "# slicing the string\n",
    "\n",
    "# stringname[start:stop:stepsize]\n",
    "\n",
    "\n",
    "\n",
    "mystr = 'Sara'\n",
    "s=0,-4\n",
    "a=1,-3\n",
    "r=2,-2\n",
    "a=3,-1\n",
    "\n",
    "\n",
    "print(\"output of mystr is \", mystr[1:3])\n",
    "print(\"output of mystr is \", mystr[-2:-4:-1])\n",
    "print(\"output of mystr is \", mystr[-2::-2])\n",
    "\n",
    "\n",
    "\n"
   ]
  },
  {
   "cell_type": "code",
   "execution_count": 24,
   "metadata": {},
   "outputs": [
    {
     "name": "stdout",
     "output_type": "stream",
     "text": [
      "* python\n",
      "* * * * * * * * * * \n",
      "corepython\n"
     ]
    }
   ],
   "source": [
    "# Repeating the string\n",
    "\n",
    "str = '* '\n",
    "str2 = \"python\"\n",
    "print(str+str2)\n",
    "print(str*10)\n",
    "\n",
    "#concatenation of string\n",
    "\n",
    "str1=\"core\"\n",
    "str2=\"python\"\n",
    "\n",
    "#\"+\" operator\n",
    "str3= str1+str2\n",
    "print(str3)\n",
    "\n",
    "#checking membership\n"
   ]
  },
  {
   "cell_type": "code",
   "execution_count": 25,
   "metadata": {},
   "outputs": [
    {
     "name": "stdout",
     "output_type": "stream",
     "text": [
      "'core' is available in the string\n"
     ]
    }
   ],
   "source": [
    "# checking membership\n",
    "\n",
    "str=\" welcome to core python\"\n",
    "str1 = \"core\"\n",
    "\n",
    "if str1 in str:\n",
    "    print(\"'\"+str1 +\"'\"+ \" is available in the string\")\n"
   ]
  },
  {
   "cell_type": "code",
   "execution_count": 26,
   "metadata": {},
   "outputs": [
    {
     "name": "stdout",
     "output_type": "stream",
     "text": [
      "substring found in the location 1\n"
     ]
    }
   ],
   "source": [
    "# Finding substring using find(),rfind(),index(),rindex()\n",
    "str = \" welcome to the core programming core\"\n",
    "#rfind-Return the highest index in S where substring sub is found\n",
    "n=str.rfind(\"wel\")\n",
    "\n",
    "print(\"substring found in the location\",n)\n",
    "\n"
   ]
  },
  {
   "cell_type": "code",
   "execution_count": 8,
   "metadata": {},
   "outputs": [
    {
     "name": "stdout",
     "output_type": "stream",
     "text": [
      "substring found in the location 16\n"
     ]
    }
   ],
   "source": [
    "# using index\n",
    "\n",
    "str = \" welcome to the core programming\"\n",
    "\n",
    "\n",
    "n=str.index(\"core\",0,len(str))\n",
    "print(\"substring found in the location\",n)\n",
    "\n"
   ]
  },
  {
   "cell_type": "code",
   "execution_count": 27,
   "metadata": {},
   "outputs": [
    {
     "name": "stdout",
     "output_type": "stream",
     "text": [
      "3\n",
      "1\n"
     ]
    }
   ],
   "source": [
    "str = \" welcome to the core programming core core \"\n",
    "# using count method to count number of times the given substring repeated in the main string\n",
    "n= str.count(\"core\")\n",
    "print(n)\n",
    "\n",
    "# between 0 to 22 how many times CORE repeated\n",
    "n= str.count(\"core\",0,20)\n",
    "print(n)"
   ]
  },
  {
   "cell_type": "code",
   "execution_count": 28,
   "metadata": {},
   "outputs": [],
   "source": [
    "# the content of the string character by character cannot be changes after it got assigned.\n",
    "\n",
    "str= \"Welcome to core python programming\"\n",
    "\n",
    "str[0] #this is not supported..you cannot modify the content by character\n",
    "str1 = \"python\" #you can reassign with new string.\n",
    "str2 = \"java\"\n",
    "\n"
   ]
  },
  {
   "cell_type": "code",
   "execution_count": 11,
   "metadata": {},
   "outputs": [
    {
     "name": "stdout",
     "output_type": "stream",
     "text": [
      "Java is the future. There are many job opportunities for Java programming \n"
     ]
    }
   ],
   "source": [
    "# because strings are immutable the performance and security are much better.\n",
    "# numbers, strings and tuples are immutable.\n",
    "\n",
    "str=\"Java is the future. There are many job opportunities for Java programming \"\n",
    "\n",
    "str1 = \"Python\" #you can reassign with new string.\n",
    "str2 = \"java\"\n",
    "\n",
    "# Replacing a string with another string.\n",
    "print(str.replace(str2,str1))\n"
   ]
  },
  {
   "cell_type": "code",
   "execution_count": 12,
   "metadata": {},
   "outputs": [
    {
     "name": "stdout",
     "output_type": "stream",
     "text": [
      "['Welcome', ' to core', ' python', ' programming']\n"
     ]
    }
   ],
   "source": [
    "# Splitting and Joining Strings\n",
    "\n",
    "str = \"Welcome, to core, python, programming\"\n",
    "\n",
    "#str.split method return LIST object\n",
    "mylist = str.split(\",\")\n",
    "\n",
    "print(mylist)"
   ]
  },
  {
   "cell_type": "code",
   "execution_count": 13,
   "metadata": {},
   "outputs": [
    {
     "name": "stdout",
     "output_type": "stream",
     "text": [
      "Welcome: to core: python: programming\n"
     ]
    }
   ],
   "source": [
    "#using join method of string\n",
    "newstr = \":\".join(mylist)\n",
    "print(newstr)"
   ]
  },
  {
   "cell_type": "code",
   "execution_count": 14,
   "metadata": {},
   "outputs": [
    {
     "name": "stdout",
     "output_type": "stream",
     "text": [
      "PYTHON IS THE FUTURE\n",
      "python is the future\n"
     ]
    }
   ],
   "source": [
    "# changing the case of a string .upper(), .lower(), .swapcase\n",
    "\n",
    "str=\"python is the future\"\n",
    "\n",
    "print(str.upper())\n",
    "print(str.lower())\n"
   ]
  },
  {
   "cell_type": "code",
   "execution_count": 15,
   "metadata": {},
   "outputs": [
    {
     "name": "stdout",
     "output_type": "stream",
     "text": [
      "pYTHON IS THE fUTURE\n",
      "Python Is The Future\n"
     ]
    }
   ],
   "source": [
    "str=\"Python is the Future\"\n",
    "print(str.swapcase())\n",
    "print(str.title())"
   ]
  },
  {
   "cell_type": "code",
   "execution_count": 16,
   "metadata": {},
   "outputs": [
    {
     "name": "stdout",
     "output_type": "stream",
     "text": [
      "True\n",
      "True\n",
      "False\n"
     ]
    }
   ],
   "source": [
    "# startswith and endswith\n",
    "str=\"Python is the Future\"\n",
    "\n",
    "print(str.startswith(\"Python\"))\n",
    "\n",
    "print(str.endswith(\"Future\"))\n",
    "print(str.endswith(\"future\")) # case sensitive"
   ]
  },
  {
   "cell_type": "markdown",
   "metadata": {},
   "source": [
    "### String testing methods\n",
    "\n",
    "isalnum()\n",
    "isalpha()\n",
    "isdigit()\n",
    "islower()\n",
    "isupper()\n",
    "istitle()\n",
    "isspace()"
   ]
  },
  {
   "cell_type": "code",
   "execution_count": 17,
   "metadata": {},
   "outputs": [
    {
     "name": "stdout",
     "output_type": "stream",
     "text": [
      "id=2618,Name=saravanan,Sal=121212.0\n"
     ]
    }
   ],
   "source": [
    "#Formating the strings\n",
    "\n",
    "id=2618\n",
    "name=\"saravanan\"\n",
    "sal=121212.00\n",
    "\n",
    "str = \"id={},Name={},Sal={}\".format(id,name,sal)\n",
    "print(str)\n"
   ]
  },
  {
   "cell_type": "code",
   "execution_count": 18,
   "metadata": {},
   "outputs": [
    {
     "name": "stdout",
     "output_type": "stream",
     "text": [
      "<class 'list'>\n",
      "['Agra', 'Chennai', 'Delhi', 'Goa']\n"
     ]
    }
   ],
   "source": [
    "\n",
    "# sorting the strings\n",
    "str=\"Chennai,Goa,Delhi,Agra\"\n",
    "str = str.split(\",\")\n",
    "print(type(str))\n",
    "str.sort()\n",
    "print(str)"
   ]
  }
 ],
 "metadata": {
  "kernelspec": {
   "display_name": "Python 3",
   "language": "python",
   "name": "python3"
  },
  "language_info": {
   "codemirror_mode": {
    "name": "ipython",
    "version": 3
   },
   "file_extension": ".py",
   "mimetype": "text/x-python",
   "name": "python",
   "nbconvert_exporter": "python",
   "pygments_lexer": "ipython3",
   "version": "3.7.3"
  }
 },
 "nbformat": 4,
 "nbformat_minor": 2
}

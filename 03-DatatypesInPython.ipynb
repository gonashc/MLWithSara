{
 "cells": [
  {
   "cell_type": "markdown",
   "metadata": {},
   "source": [
    "#### What we are going to Learn\n",
    "\n",
    "1. How to add comments in python\n",
    "2. Variables in Python\n",
    "3. DataTypes in Python\n",
    "    Built in Datatype\n",
    "    1. Numeric DataTypes in Python & Datatype Conversion\n",
    "        1. Int\n",
    "        2. Float\n",
    "        3. Complex\n",
    "        4. bool\n",
    "    2. <b>Sequences in Python</b>\n",
    "        1. Strings\n",
    "        2. bytes and bytearrays\n",
    "        3. list\n",
    "        4. tuples\n",
    "        5. sets\n",
    "        6. Range\n",
    "        7. mapping datatype(dictionary)\n",
    "4.User Defined Datatypes"
   ]
  },
  {
   "cell_type": "markdown",
   "metadata": {},
   "source": [
    "### How to add comments in python\n",
    "\n",
    "Two types of commments\n",
    "Single Line Comments\n",
    "Multiline Comments"
   ]
  },
  {
   "cell_type": "code",
   "execution_count": 1,
   "metadata": {},
   "outputs": [
    {
     "name": "stdout",
     "output_type": "stream",
     "text": [
      "I have learnt the comments\n"
     ]
    }
   ],
   "source": [
    "#single line comment -1\n",
    "#single line comment -2\n",
    "\n",
    "''' Multiline Comments\n",
    "Line 1\n",
    "Line 2\n",
    "Line 3\n",
    "\n",
    "'''\n",
    "# note: there is no multiline comments in the python. the above one is nothing but Doc string object. \n",
    "# so it is not recommended to use multiline comments. because it occupies memory.\n",
    "# docstrings are used for API function documentation. we can extract all the docstring comments in to an HTML\n",
    "\n",
    "print(\"I have learnt the comments\")"
   ]
  },
  {
   "attachments": {
    "image.png": {
     "image/png": "[encoded data removed]"
    }
   },
   "cell_type": "markdown",
   "metadata": {},
   "source": [
    "### Variables in Python\n",
    "\n",
    "In other languages, variable name refer to memory location and value are stored in that memory location. \n",
    "for each variable there will be different memory address will be refered.\n",
    "\n",
    "But in python variable is refered as tag(names) that is tied to some value not to any datatype\n",
    "\n",
    "![image.png](attachment:image.png)\n",
    "\n",
    "https://jakevdp.github.io/PythonDataScienceHandbook/02.01-understanding-data-types.html"
   ]
  },
  {
   "cell_type": "code",
   "execution_count": 2,
   "metadata": {},
   "outputs": [
    {
     "name": "stdout",
     "output_type": "stream",
     "text": [
      "Please enter first  number :1\n",
      "Please enter second number :2\n",
      "Total =  3\n"
     ]
    }
   ],
   "source": [
    "\n",
    "num1 = int(input(\"Please enter first  number :\"))\n",
    "num2 = int(input(\"Please enter second number :\"))\n",
    "total = num1+num2\n",
    "print(\"Total = \",total)"
   ]
  },
  {
   "cell_type": "markdown",
   "metadata": {},
   "source": [
    "Integer Memory Layout\n",
    "Here PyObject_HEAD is the part of the structure containing the reference count, type code, and other pieces mentioned before.\n"
   ]
  },
  {
   "cell_type": "code",
   "execution_count": 2,
   "metadata": {},
   "outputs": [],
   "source": [
    "a=1\n",
    "b=a\n",
    "\n",
    "# now both \"a\" and \"b\" are tags attached to the value 1. if value got changed then new value object will be created and it \n",
    "# and \"a\" and \"b\" will be refered that new value \n"
   ]
  },
  {
   "cell_type": "markdown",
   "metadata": {},
   "source": [
    "### DataTypes in Python\n",
    "\n",
    "Built in Datatype\n",
    "    1. None - Nothing but NULL object\n",
    "    2. Numeric\n",
    "        Int\n",
    "        Float\n",
    "        Complex\n",
    "        bool\n",
    "    3. Sequences\n",
    "        string\n",
    "        bytes\n",
    "        bytearray\n",
    "        list\n",
    "        tuple\n",
    "        range\n",
    "    4. Sets\n",
    "        set\n",
    "        frozenset        \n",
    "    5. Mappings\n",
    "        dictionary\n",
    "    \n",
    "user defined Datatype\n",
    "        Class"
   ]
  },
  {
   "cell_type": "markdown",
   "metadata": {},
   "source": [
    "### Numeric DataTypes in Python"
   ]
  },
  {
   "cell_type": "code",
   "execution_count": 1,
   "metadata": {},
   "outputs": [
    {
     "name": "stdout",
     "output_type": "stream",
     "text": [
      "<class 'NoneType'>\n",
      "<class 'int'>\n",
      "<class 'float'>\n",
      "<class 'complex'>\n",
      "<class 'bool'>\n"
     ]
    }
   ],
   "source": [
    "# Assige the value None to a variable\n",
    "MyAge = None\n",
    "print(type(MyAge))\n",
    "\n",
    "# change the value to int and check again\n",
    "MyAge = 25\n",
    "print(type(MyAge))\n",
    "\n",
    "# change the value to float and check again\n",
    "MyAge = 25.6\n",
    "print(type(MyAge))\n",
    "\n",
    "# change the value to complex and check again\n",
    "MyAge = 25+6j\n",
    "print(type(MyAge))\n",
    "\n",
    "# change the value to bool and check again\n",
    "MyAge = True\n",
    "print(type(MyAge))\n"
   ]
  },
  {
   "cell_type": "markdown",
   "metadata": {},
   "source": [
    "### Data type Conversion"
   ]
  },
  {
   "cell_type": "code",
   "execution_count": 3,
   "metadata": {},
   "outputs": [
    {
     "name": "stdout",
     "output_type": "stream",
     "text": [
      "<class 'float'>\n",
      "12\n",
      "<class 'int'>\n",
      "12.0\n",
      "(12+0j)\n"
     ]
    }
   ],
   "source": [
    "# To convert the number in to Int\n",
    "\n",
    "a=12.56\n",
    "print(type(a))\n",
    "print(int(a))\n",
    "b=int(a)\n",
    "print(type(b))\n",
    "\n",
    "# To convert the number in to Float\n",
    "\n",
    "a=12\n",
    "print(float(a))\n",
    "\n",
    "# To convert the number in to complex\n",
    "\n",
    "a=12\n",
    "print(complex(a))\n",
    "\n"
   ]
  },
  {
   "cell_type": "code",
   "execution_count": 3,
   "metadata": {},
   "outputs": [
    {
     "name": "stdout",
     "output_type": "stream",
     "text": [
      "Octal to int =  15\n",
      "Binary to int =  114\n",
      "Hex to int =  450\n",
      "a is greater than b\n",
      "2\n"
     ]
    }
   ],
   "source": [
    "# to convert numbers from octal, binary and hexadecimal\n",
    "\n",
    "n1=0o17\n",
    "n2=0B1110010\n",
    "n3=0x1c2\n",
    "print(\"Octal to int = \", int(n1))\n",
    "print(\"Binary to int = \", int(n2))\n",
    "print(\"Hex to int = \", int(n3))\n",
    "\n",
    "# bool data type conversion\n",
    "\n",
    "\n",
    "a=30\n",
    "b=20\n",
    "# conditions will return either True(1) or False(0)\n",
    "if (a>b):\n",
    "    print(\"a is greater than b\")\n",
    "\n",
    "print(True+True)\n",
    "\n",
    "    "
   ]
  },
  {
   "cell_type": "markdown",
   "metadata": {},
   "source": [
    "### Sequences in Python - Strings"
   ]
  },
  {
   "cell_type": "code",
   "execution_count": 7,
   "metadata": {},
   "outputs": [
    {
     "name": "stdout",
     "output_type": "stream",
     "text": [
      "1. welcome in double quotes\n",
      "2. welcome in single quotes\n",
      "3. welcome in triple quotes\n",
      "this is multiline\n",
      "<class 'str'>\n",
      "W\n",
      "come\n",
      "core python.\n",
      "Welcome to core python\n",
      "Welcome to core python.Welcome to core python.\n"
     ]
    }
   ],
   "source": [
    "str=\"1. welcome in double quotes\"\n",
    "print(str)\n",
    "str='2. welcome in single quotes'\n",
    "print(str)\n",
    "str=\"\"\"3. welcome in triple quotes\n",
    "this is multiline\"\"\"\n",
    "print(str)\n",
    "print(type(str))\n",
    "# Slices - Strings\n",
    "\n",
    "str= \"Welcome to core python.\"\n",
    "\n",
    "print(str[0])\n",
    "print(str[3:7])\n",
    "print(str[11:])\n",
    "print(str[:-1])\n",
    "#repetition\n",
    "print(str*2)\n"
   ]
  },
  {
   "cell_type": "markdown",
   "metadata": {},
   "source": [
    "### Sequences in Python - bytes and bytearray datatype\n",
    "\n",
    "bytes datatype represents group of byte numbers just like an array. byte number is any positive integer between 0 to 255\n",
    "Note: bytes datatype is immutable but bytearray is mutable\n",
    "\n",
    "bytes and bytearray is used to store the value in to the computer. strings cannot be stored directly in to harddisk without converting into bytes datatpe with specific format"
   ]
  },
  {
   "cell_type": "code",
   "execution_count": 5,
   "metadata": {},
   "outputs": [
    {
     "name": "stdout",
     "output_type": "stream",
     "text": [
      "10\n",
      "10\n",
      "99\n",
      "b'Python is interesting.'\n"
     ]
    }
   ],
   "source": [
    "elements = [10,20,0,40,15] # this is list of byte numbers\n",
    "x=bytes(elements)\n",
    "print(x[0])\n",
    "\n",
    "###########byte array #########\n",
    "elements = [10,20,0,40,15] # this is list of byte numbers\n",
    "y=bytearray(elements)\n",
    "print(y[0])\n",
    "y[0]=99\n",
    "print(y[0])\n",
    "\n",
    "#######################\n",
    "\n",
    "string = \"Python is interesting.\"\n",
    "\n",
    "# string with encoding 'utf-8'\n",
    "arr = bytes(string, 'utf-8')\n",
    "print(arr)\n"
   ]
  },
  {
   "cell_type": "code",
   "execution_count": 6,
   "metadata": {},
   "outputs": [
    {
     "name": "stdout",
     "output_type": "stream",
     "text": [
      "97\n",
      "98\n",
      "99\n",
      "100\n",
      "Count of c is: 4\n"
     ]
    }
   ],
   "source": [
    "#######################\n",
    "\n",
    "# Creates bytearray from byte literal \n",
    "arr1 = bytearray(b\"abcd\") \n",
    "  \n",
    "# iterating the value \n",
    "for value in arr1: \n",
    "    print(value) \n",
    "      \n",
    "# Create a bytearray object \n",
    "arr2 = bytearray(b\"aaaacccc\") \n",
    "  \n",
    "# count bytes from the buffer \n",
    "print(\"Count of c is:\", arr2.count(b\"c\")) "
   ]
  },
  {
   "cell_type": "markdown",
   "metadata": {},
   "source": [
    "### Sequences in Python - List\n",
    "List in python is similar to array in C\n",
    "Main difference is that a list can store different datatypes\n",
    "list can grow dynamically\n",
    "list is represented using square brackets\"[]\"\n",
    "All Slicing operataion can be done in the list ex list[0:3]\n"
   ]
  },
  {
   "cell_type": "code",
   "execution_count": 1,
   "metadata": {},
   "outputs": [
    {
     "name": "stdout",
     "output_type": "stream",
     "text": [
      "[10, -20, 15.5, 'Vijay', 'Mary']\n",
      "[-20, 15.5]\n",
      "[10, -20, 15.5]\n",
      "[10, -20, 15.5, 'Vijay', 'Mary', 10, -20, 15.5, 'Vijay', 'Mary']\n",
      "[99, -20, 15.5, 'Vijay', 'Mary']\n"
     ]
    }
   ],
   "source": [
    "mylist=[10,-20,15.5,\"Vijay\",'Mary']\n",
    "\n",
    "print(mylist)\n",
    "print(mylist[1:3])\n",
    "print(mylist[:-2])\n",
    "print(mylist*2)\n",
    "#list can be  modified\n",
    "mylist[0]=99\n",
    "print(mylist)"
   ]
  },
  {
   "cell_type": "markdown",
   "metadata": {},
   "source": [
    "### Sequences in Python - Tuple\n",
    "Tuple is similar to List\n",
    "Main difference is that a list is mutable whereas Tuple is immutable\n",
    "Tuple is represented using paranthesis\"()\"\n",
    "So Tuple is read only list\n",
    "All Slicing operataion can be done in the Tuple\n"
   ]
  },
  {
   "cell_type": "code",
   "execution_count": 8,
   "metadata": {},
   "outputs": [
    {
     "name": "stdout",
     "output_type": "stream",
     "text": [
      "(10, -20, 15.5, 'Vijay', 'Mary')\n",
      "(-20, 15.5)\n",
      "Vijay\n",
      "(10, -20, 15.5, 'Vijay', 'Mary', 10, -20, 15.5, 'Vijay', 'Mary')\n"
     ]
    }
   ],
   "source": [
    "myTuple=(10,-20,15.5,\"Vijay\",'Mary')\n",
    "print(myTuple)\n",
    "print(myTuple[1:3])\n",
    "print(myTuple[-2])\n",
    "print(myTuple*2)\n",
    "#Tuple cannot be  modified below statement will throw an error\n",
    "#myTuple[0]=99\n"
   ]
  },
  {
   "cell_type": "markdown",
   "metadata": {},
   "source": [
    "### Sequence in Python - Range Datatype\n",
    "The range datatype represents the sequence of numbers. the numbers in that range are not modifiable.Mainly it is used for repeating a FOR LOOP for specific number of times."
   ]
  },
  {
   "cell_type": "code",
   "execution_count": 9,
   "metadata": {},
   "outputs": [
    {
     "name": "stdout",
     "output_type": "stream",
     "text": [
      "range(0, 10)\n",
      "inside 0\n",
      "inside 1\n",
      "inside 2\n",
      "inside 3\n",
      "inside 4\n",
      "inside 5\n",
      "inside 6\n",
      "inside 7\n",
      "inside 8\n",
      "inside 9\n",
      "#######\n",
      "20\n",
      "22\n",
      "24\n",
      "26\n",
      "28\n",
      "30\n",
      "32\n",
      "34\n",
      "36\n",
      "38\n",
      "#######\n",
      "<class 'tuple'>\n",
      "0\n",
      "1\n",
      "2\n",
      "3\n",
      "4\n",
      "5\n",
      "6\n",
      "7\n",
      "8\n",
      "9\n"
     ]
    }
   ],
   "source": [
    "myRange = range(10)\n",
    "print(myRange)\n",
    "\n",
    "for i in myRange:\n",
    "    print(\"inside\",i)\n",
    "    \n",
    "print(\"#######\")\n",
    "\n",
    "myRange2 = range(20,40,2)\n",
    "for i in myRange2:\n",
    "    print(i)\n",
    "    \n",
    "print(\"#######\")\n",
    "myTuple = tuple(range(10))\n",
    "\n",
    "print(type(myTuple))\n",
    "\n",
    "for i in myList:\n",
    "    print(i)"
   ]
  },
  {
   "cell_type": "markdown",
   "metadata": {},
   "source": [
    "### Sequence in python - Sets\n",
    "Set is an unordered collection of elements much like a set in mathematics. \n",
    "The order of elements is not in the sets.Sets does not accept duplicates\n",
    "1. set datatype : can be modified\n",
    "2. frozenset datatypev- cannot be modified"
   ]
  },
  {
   "cell_type": "code",
   "execution_count": 10,
   "metadata": {},
   "outputs": [
    {
     "name": "stdout",
     "output_type": "stream",
     "text": [
      "{40, 10, 50, 20, 30}\n",
      "{'H', 'l', 'e', 'o'}\n"
     ]
    }
   ],
   "source": [
    "mySet={10,20,30,40,50,20}\n",
    "print(mySet)\n",
    "\n",
    "ch= set(\"Hello\")\n",
    "print(ch)\n"
   ]
  },
  {
   "cell_type": "markdown",
   "metadata": {},
   "source": [
    "### Sequence in python - Mapping  Datatype ( Dict)\n",
    "A map represents group of elements in the form of key-value pair.\n",
    "with the Key we can retrieve the value"
   ]
  },
  {
   "cell_type": "code",
   "execution_count": 12,
   "metadata": {},
   "outputs": [
    {
     "name": "stdout",
     "output_type": "stream",
     "text": [
      "{10: 'Kamal', 11: 'Pranav', 12: 'Hasini', 13: 'Anup', 14: 'Reethu'}\n",
      "##############\n",
      "Hasini\n",
      "dict_keys([10, 11, 12, 13, 14])\n",
      "##############\n",
      "<class 'dict'>\n"
     ]
    }
   ],
   "source": [
    "myDict={10:'Kamal',11:'Pranav',12:'Hasini',13:'Anup',14:'Reethu'}\n",
    "print(myDict)\n",
    "\n",
    "print(\"##############\")\n",
    "print(myDict[12])\n",
    "print(myDict.keys())\n",
    "\n",
    "print(\"##############\")\n",
    "\n",
    "d={}\n",
    "print(type(d))\n"
   ]
  },
  {
   "cell_type": "markdown",
   "metadata": {},
   "source": [
    "The builtins data structures are: lists, tuples, dictionaries, strings, sets and frozensets. Lists, strings and tuples are ordered sequences of objects."
   ]
  },
  {
   "cell_type": "code",
   "execution_count": 12,
   "metadata": {},
   "outputs": [],
   "source": [
    "### Important Escape characters in Strings\n",
    "# \\ - New Line Continuation\n",
    "# \\\\ - Display a single slash\n",
    "# \\' - Display a single quote\n",
    "# \\'' - Display a double quote\n",
    "# \\b - BackSpace\n",
    "# \\r - Enter\n",
    "# \\t - Horizontal Tab Space\n",
    "# \\v - Vertical Tab\n",
    "# \\n -New Line"
   ]
  }
 ],
 "metadata": {
  "kernelspec": {
   "display_name": "Python 3",
   "language": "python",
   "name": "python3"
  },
  "language_info": {
   "codemirror_mode": {
    "name": "ipython",
    "version": 3
   },
   "file_extension": ".py",
   "mimetype": "text/x-python",
   "name": "python",
   "nbconvert_exporter": "python",
   "pygments_lexer": "ipython3",
   "version": "3.7.3"
  }
 },
 "nbformat": 4,
 "nbformat_minor": 2
}
